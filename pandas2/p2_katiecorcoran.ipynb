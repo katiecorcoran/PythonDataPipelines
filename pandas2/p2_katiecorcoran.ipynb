{
 "cells": [
  {
   "cell_type": "code",
   "execution_count": 1,
   "id": "ad3682c5-3055-4486-80ba-cfc659ddfc66",
   "metadata": {},
   "outputs": [
    {
     "name": "stdout",
     "output_type": "stream",
     "text": [
      "         material  age  length  mosscover covered cursed waterbody  guardian\n",
      "bridgeid                                                                    \n",
      "1           stone  2.5     4.5        0.8       n      y     river     troll\n",
      "2           stone  3.8     3.1        0.5       n      y     marsh       NaN\n",
      "3         unknown  2.1     4.4        0.6       n      n     marsh     troll\n",
      "4            wood  1.2     2.2        0.6       n      n     creek  squirrel\n",
      "5           brick  2.6     3.8        0.9       n      n     river     troll\n",
      "...           ...  ...     ...        ...     ...    ...       ...       ...\n",
      "929         brick  1.6     1.9        0.7       n      y     marsh  squirrel\n",
      "930         stone  3.7     4.2        0.5       n      y     marsh  squirrel\n",
      "931         brick  2.0     2.7        0.4       n      n     river      none\n",
      "932          wood  1.7     2.5        0.9       n      n     river  squirrel\n",
      "933         stone  4.4     3.9        0.6       n      y     marsh      ogre\n",
      "\n",
      "[933 rows x 8 columns]\n"
     ]
    }
   ],
   "source": [
    "# 1.\n",
    "import pandas as pd\n",
    "import numpy as np\n",
    "df = pd.read_csv('griselbridge.csv', index_col='bridgeid')\n",
    "df.replace({'material':np.nan}, value='unknown', inplace=True)\n",
    "print(df)"
   ]
  },
  {
   "cell_type": "code",
   "execution_count": 3,
   "id": "03fb3b5d-1437-4ed4-a629-842b2f57f62b",
   "metadata": {},
   "outputs": [
    {
     "name": "stdout",
     "output_type": "stream",
     "text": [
      "            length       \n",
      "              mean median\n",
      "material                 \n",
      "brick     2.906173    2.8\n",
      "stone     3.041315    3.1\n",
      "unknown   4.080000    4.2\n",
      "wood      2.948851    2.9\n",
      "The mean and median lengths for brick bridges are 2.906 and 2.8. For stone, the mean and median values are 3.041 and 3.1. For wood, 4.080 and 4.2, and for unknown materials they are 2.949 and 2.9.\n",
      "             age  mosscover\n",
      "cursed                     \n",
      "n       2.117427   0.488581\n",
      "y       2.434921   0.728617\n",
      "Cursed bridges tend to be slightly older, but not by much. Cursed bridges also have a slightly higher level of moss-cover.\n"
     ]
    }
   ],
   "source": [
    "# 2.\n",
    "print(df[['material', 'length']].groupby('material').agg(['mean', 'median']))\n",
    "print(\"The mean and median lengths for brick bridges are 2.906 and 2.8. For stone, the mean and median values are 3.041 and 3.1. For wood, 4.080 and 4.2, and for unknown materials they are 2.949 and 2.9.\")\n",
    "print(df[['cursed', 'age', 'mosscover']].groupby('cursed').agg('mean'))\n",
    "print(\"Cursed bridges tend to be slightly older and have a higher level of moss-cover.\")"
   ]
  },
  {
   "cell_type": "code",
   "execution_count": 5,
   "id": "8bd72b29-39f2-4d13-9016-9efdad1b1d0f",
   "metadata": {},
   "outputs": [
    {
     "name": "stdout",
     "output_type": "stream",
     "text": [
      "          mosscover  length  age  mossqty  mossrate\n",
      "bridgeid                                           \n",
      "1               0.8     4.5  2.5     3.60  1.440000\n",
      "2               0.5     3.1  3.8     1.55  0.407895\n",
      "3               0.6     4.4  2.1     2.64  1.257143\n",
      "4               0.6     2.2  1.2     1.32  1.100000\n",
      "5               0.9     3.8  2.6     3.42  1.315385\n",
      "...             ...     ...  ...      ...       ...\n",
      "929             0.7     1.9  1.6     1.33  0.831250\n",
      "930             0.5     4.2  3.7     2.10  0.567568\n",
      "931             0.4     2.7  2.0     1.08  0.540000\n",
      "932             0.9     2.5  1.7     2.25  1.323529\n",
      "933             0.6     3.9  4.4     2.34  0.531818\n",
      "\n",
      "[933 rows x 5 columns]\n",
      "          mossrate\n",
      "material          \n",
      "brick     0.857133\n",
      "stone     0.890560\n",
      "unknown   0.984254\n",
      "wood      1.403203\n",
      "On average, moss grows at a rate of 0.857 linear units per epoch on brick bridges, 0.891 on stone bridges, 1.403 on wood bridges, and 0.984 on bridges of unknown material.\n",
      "         mossrate\n",
      "covered          \n",
      "n        1.007567\n",
      "y        0.815901\n",
      "Covered bridges encourage slower moss growth.\n"
     ]
    }
   ],
   "source": [
    "# 3.\n",
    "df[\"mossqty\"] = df.mosscover * df.length\n",
    "df[\"mossrate\"] = df.mossqty / df.age \n",
    "\n",
    "print(df[[\"mosscover\", \"length\", \"age\", \"mossqty\", \"mossrate\"]])\n",
    "\n",
    "print(df[[\"material\", \"mossrate\"]].groupby('material').agg('mean'))\n",
    "print(\"On average, moss grows at a rate of 0.857 linear units per epoch on brick bridges, 0.891 on stone bridges, 1.403 on wood bridges, and 0.984 on bridges of unknown material.\")\n",
    "\n",
    "print(df[[\"covered\", \"mossrate\"]].groupby('covered').agg('mean'))\n",
    "print(\"Covered bridges encourage slower moss growth.\")"
   ]
  },
  {
   "cell_type": "code",
   "execution_count": 7,
   "id": "6f481ca0-fb6c-4b8c-bdfe-85d499a055f2",
   "metadata": {},
   "outputs": [
    {
     "name": "stdout",
     "output_type": "stream",
     "text": [
      "         waterbody flow  guardian  threatlvl\n",
      "bridgeid                                    \n",
      "1            river    y     troll       0.20\n",
      "3            marsh    n     troll       0.20\n",
      "4            creek    y  squirrel       0.01\n",
      "5            river    y     troll       0.20\n",
      "6            river    y  squirrel       0.01\n",
      "...            ...  ...       ...        ...\n",
      "929          marsh    n  squirrel       0.01\n",
      "930          marsh    n  squirrel       0.01\n",
      "931          river    y      none       0.00\n",
      "932          river    y  squirrel       0.01\n",
      "933          marsh    n      ogre       0.10\n",
      "\n",
      "[921 rows x 4 columns]\n"
     ]
    }
   ],
   "source": [
    "# 4.\n",
    "df.dropna(subset=[\"guardian\"], inplace=True)\n",
    "df[\"flow\"] = np.where((df.waterbody == 'river') | (df.waterbody == 'creek'), 'y', 'n')\n",
    "conditions = [df.guardian == \"ogre\", df.guardian == \"troll\", df.guardian == \"squirrel\", True]\n",
    "values = [0.1, 0.2, 0.01, 0.0]\n",
    "df[\"threatlvl\"] = np.select(conditions, values)\n",
    "print(df[[\"waterbody\", \"flow\", \"guardian\", \"threatlvl\"]])"
   ]
  },
  {
   "cell_type": "code",
   "execution_count": 11,
   "id": "c29c7cef-807a-4485-9897-7383d110f617",
   "metadata": {},
   "outputs": [
    {
     "name": "stdout",
     "output_type": "stream",
     "text": [
      "      threatlvl\n",
      "flow           \n",
      "n      0.118910\n",
      "y      0.100626\n",
      "On average, bridges over flowing water are less dangerous than bridges over non-flowing water.\n",
      "          threatlvl\n",
      "material           \n",
      "brick      0.099969\n",
      "stone      0.112799\n",
      "unknown    0.104000\n",
      "wood       0.100457\n",
      "On average, stone bridges have the highest threat level.\n",
      "               threatlvl\n",
      "material flow           \n",
      "brick    n      0.126667\n",
      "         y      0.089657\n",
      "stone    n      0.114286\n",
      "         y      0.112207\n",
      "wood     n      0.114821\n",
      "         y      0.093697\n",
      "Brick bridges over non-flowing water yield the highest threat level.\n"
     ]
    }
   ],
   "source": [
    "# 5.\n",
    "print(df[[\"flow\", \"threatlvl\"]].groupby(\"flow\").agg(\"mean\"))\n",
    "print(\"On average, bridges over flowing water are less dangerous than bridges over non-flowing water.\")\n",
    "print(df[[\"material\", \"threatlvl\"]].groupby(\"material\").agg(\"mean\"))\n",
    "print(\"On average, stone bridges have the highest threat level.\")\n",
    "print(df[(df.material != \"unknown\")][[\"material\", \"flow\", \"threatlvl\"]].groupby([\"material\", \"flow\"]).agg(\"mean\"))\n",
    "print(\"Brick bridges over non-flowing water yield the highest threat level.\")\n"
   ]
  },
  {
   "cell_type": "code",
   "execution_count": 13,
   "id": "6333fd2b-0015-4316-9338-5b55a39fb995",
   "metadata": {},
   "outputs": [
    {
     "name": "stdout",
     "output_type": "stream",
     "text": [
      "         material  age  length  mosscover covered cursed waterbody  guardian  \\\n",
      "bridgeid                                                                       \n",
      "1           stone  2.5     4.5        0.8       n      y     river     troll   \n",
      "8           brick  3.1     4.3        0.8       n      n     marsh      ogre   \n",
      "17          stone  2.9     4.3        1.0       n      n     river     troll   \n",
      "21          stone  3.3     4.3        0.9       n      n     marsh  squirrel   \n",
      "25          stone  1.5     4.2        0.8       n      n     river     troll   \n",
      "...           ...  ...     ...        ...     ...    ...       ...       ...   \n",
      "906         brick  2.9     4.2        0.8       n      y     marsh     troll   \n",
      "911         stone  3.6     4.3        0.4       n      n     river      ogre   \n",
      "912         stone  3.8     4.2        0.4       n      n     river      ogre   \n",
      "914         brick  1.5     4.3        0.6       n      n     river     troll   \n",
      "930         stone  3.7     4.2        0.5       n      y     marsh  squirrel   \n",
      "\n",
      "          mossqty  mossrate flow  threatlvl  \n",
      "bridgeid                                     \n",
      "1            3.60  1.440000    y       0.20  \n",
      "8            3.44  1.109677    n       0.10  \n",
      "17           4.30  1.482759    y       0.20  \n",
      "21           3.87  1.172727    n       0.01  \n",
      "25           3.36  2.240000    y       0.20  \n",
      "...           ...       ...  ...        ...  \n",
      "906          3.36  1.158621    n       0.20  \n",
      "911          1.72  0.477778    y       0.10  \n",
      "912          1.68  0.442105    y       0.10  \n",
      "914          2.58  1.720000    y       0.20  \n",
      "930          2.10  0.567568    n       0.01  \n",
      "\n",
      "[116 rows x 12 columns]\n",
      "116 bridges satisfy the conditions to be included in this subset.\n"
     ]
    }
   ],
   "source": [
    "# 6.\n",
    "dfsub = df[(df.age > 1.0) & ((df.material == \"stone\") | (df.material == \"brick\")) & (df.length >= 4.2)]\n",
    "print(dfsub)\n",
    "print(f\"{len(dfsub)} bridges satisfy the conditions to be included in this subset.\")"
   ]
  },
  {
   "cell_type": "code",
   "execution_count": 71,
   "id": "39f673d8-aab5-4226-a846-7f6f976598a8",
   "metadata": {},
   "outputs": [
    {
     "name": "stdout",
     "output_type": "stream",
     "text": [
      "         material  age  length  mosscover covered cursed waterbody  guardian  \\\n",
      "bridgeid                                                                       \n",
      "1           stone  2.5     4.5        0.8       n      y     river     troll   \n",
      "3         unknown  2.1     4.4        0.6       n      n     marsh     troll   \n",
      "4            wood  1.2     2.2        0.6       n      n     creek  squirrel   \n",
      "5           brick  2.6     3.8        0.9       n      n     river     troll   \n",
      "6           stone  2.4     2.4        0.8       y      n     river  squirrel   \n",
      "...           ...  ...     ...        ...     ...    ...       ...       ...   \n",
      "929         brick  1.6     1.9        0.7       n      y     marsh  squirrel   \n",
      "930         stone  3.7     4.2        0.5       n      y     marsh  squirrel   \n",
      "931         brick  2.0     2.7        0.4       n      n     river      none   \n",
      "932          wood  1.7     2.5        0.9       n      n     river  squirrel   \n",
      "933         stone  4.4     3.9        0.6       n      y     marsh      ogre   \n",
      "\n",
      "          mossqty  mossrate flow  threatlvl  \n",
      "bridgeid                                     \n",
      "1            3.60  1.440000    y       0.20  \n",
      "3            2.64  1.257143    n       0.20  \n",
      "4            1.32  1.100000    y       0.01  \n",
      "5            3.42  1.315385    y       0.20  \n",
      "6            1.92  0.800000    y       0.01  \n",
      "...           ...       ...  ...        ...  \n",
      "929          1.33  0.831250    n       0.01  \n",
      "930          2.10  0.567568    n       0.01  \n",
      "931          1.08  0.540000    y       0.00  \n",
      "932          2.25  1.323529    y       0.01  \n",
      "933          2.34  0.531818    n       0.10  \n",
      "\n",
      "[907 rows x 12 columns]\n",
      "There are 907 records now that those with null values have been removed.\n"
     ]
    }
   ],
   "source": [
    "# 7.\n",
    "dfa = df.dropna()\n",
    "print(dfa)\n",
    "print(f\"There are {len(dfa)} records now that those with null values have been removed.\")"
   ]
  },
  {
   "cell_type": "code",
   "execution_count": 17,
   "id": "67c1d687-0965-435f-9a7f-01a9b4b99744",
   "metadata": {},
   "outputs": [
    {
     "name": "stdout",
     "output_type": "stream",
     "text": [
      "                    threatlvl\n",
      "material waterbody           \n",
      "brick    creek       0.109344\n",
      "         marsh       0.125843\n",
      "         river       0.082899\n",
      "stone    creek       0.085949\n",
      "         marsh       0.116207\n",
      "         river       0.121429\n",
      "wood     creek       0.078125\n",
      "         marsh       0.115091\n",
      "         river       0.100471\n",
      "I would prefer to cross a bridge made of wood that crosses a river because I would have the lowest probability of getting attacked at 0.100471\n"
     ]
    }
   ],
   "source": [
    "# 8.\n",
    "print(dfa[(dfa.material != \"unknown\")][[\"material\", \"waterbody\", \"threatlvl\"]].groupby([\"material\", \"waterbody\"]).agg(\"mean\"))\n",
    "print(\"I would prefer to cross Bridge A because I would have the lowest probability of getting attacked at 0.100471\") \n"
   ]
  },
  {
   "cell_type": "code",
   "execution_count": 89,
   "id": "748af801-5694-4119-9610-c3c3c1c5ec8c",
   "metadata": {},
   "outputs": [
    {
     "name": "stdout",
     "output_type": "stream",
     "text": [
      "0.2694010316776287 0.5713340683572217\n",
      "                            threatlvl\n",
      "material mosscat waterbody           \n",
      "brick    average creek       0.123659\n",
      "                 river       0.086765\n",
      "stone    average marsh       0.122703\n",
      "         low     creek       0.060000\n",
      "wood     high    river       0.128125\n",
      "I would prefer to cross bridge G because I have the lowest probability of being attacked at 0.06.\n"
     ]
    },
    {
     "name": "stderr",
     "output_type": "stream",
     "text": [
      "/var/folders/44/s9hsvm1943z9xb042mqxxtgc0000gn/T/ipykernel_31198/2369619152.py:11: SettingWithCopyWarning: \n",
      "A value is trying to be set on a copy of a slice from a DataFrame.\n",
      "Try using .loc[row_indexer,col_indexer] = value instead\n",
      "\n",
      "See the caveats in the documentation: https://pandas.pydata.org/pandas-docs/stable/user_guide/indexing.html#returning-a-view-versus-a-copy\n",
      "  dfa[\"mosscat\"] = np.select(conditions, values)\n"
     ]
    }
   ],
   "source": [
    "# 9.\n",
    "stdDeviation = dfa[\"mosscover\"].agg(\"std\")\n",
    "mean = dfa[\"mosscover\"].agg(\"mean\")\n",
    "print(stdDeviation, mean)\n",
    "conditions = [\n",
    "    dfa.mosscover < (mean - stdDeviation),\n",
    "    dfa.mosscover < (mean + stdDeviation),\n",
    "    True\n",
    "]\n",
    "values = [\"low\", \"average\", \"high\"]\n",
    "dfa[\"mosscat\"] = np.select(conditions, values)\n",
    "dfsub = dfa[\n",
    "    ((dfa.material == \"stone\") & (dfa.mosscat == \"average\") & (dfa.waterbody == \"marsh\")) | \n",
    "    ((dfa.material == \"brick\") & (dfa.mosscat == \"average\") & (dfa.waterbody == \"river\")) |\n",
    "    ((dfa.material == \"brick\") & (dfa.mosscat == \"average\") & (dfa.waterbody == \"creek\")) |\n",
    "    ((dfa.material == \"stone\") & (dfa.mosscat == \"low\") & (dfa.waterbody == \"creek\")) |\n",
    "    ((dfa.material == \"wood\") & (dfa.mosscat == \"high\") & (dfa.waterbody == \"river\"))\n",
    "]\n",
    "print(dfsub[[\"material\", \"waterbody\", \"mosscat\", \"threatlvl\"]].groupby([\"material\", \"mosscat\", \"waterbody\"]).agg(\"mean\"))\n",
    "print(\"I would prefer to cross bridge G because I have the lowest probability of being attacked at 0.06.\")\n",
    "                                                                                   "
   ]
  },
  {
   "cell_type": "code",
   "execution_count": null,
   "id": "527cc4ed-f929-44af-9cdc-6e4eb3727eea",
   "metadata": {},
   "outputs": [],
   "source": []
  }
 ],
 "metadata": {
  "kernelspec": {
   "display_name": "Python 3 (ipykernel)",
   "language": "python",
   "name": "python3"
  },
  "language_info": {
   "codemirror_mode": {
    "name": "ipython",
    "version": 3
   },
   "file_extension": ".py",
   "mimetype": "text/x-python",
   "name": "python",
   "nbconvert_exporter": "python",
   "pygments_lexer": "ipython3",
   "version": "3.10.14"
  }
 },
 "nbformat": 4,
 "nbformat_minor": 5
}
