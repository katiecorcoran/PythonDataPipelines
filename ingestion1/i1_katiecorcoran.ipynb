{
 "cells": [
  {
   "cell_type": "code",
   "execution_count": null,
   "metadata": {},
   "outputs": [],
   "source": [
    "# 1. Katie Corcoran"
   ]
  },
  {
   "cell_type": "code",
   "execution_count": 2,
   "metadata": {},
   "outputs": [
    {
     "name": "stdout",
     "output_type": "stream",
     "text": [
      "                         corgname  breed gender  weight  age fromfile\n",
      "corgid                                                               \n",
      "1                   Snappy Ginger    Pem      F      21  3.5     None\n",
      "2                   Golden Graham    Pem      M      30  2.0     None\n",
      "3                          Kraken    Pem     SF      22  3.5     None\n",
      "4                     Snarla June    Pem     SF      29  3.5     None\n",
      "5                 Smiley Shortdog  Cardi     NM      33  4.5     None\n",
      "6                         Stanley    Pem      M      33  3.5     None\n",
      "7                Holden Corgfield    Pem      M      25  4.0     None\n",
      "8           Penny the Shedmonster    Pem      F      20  5.0     None\n",
      "9       Baroness von Fluffyshanks    Pem     SF      22  4.0     None\n",
      "10                     Prometheus    Pem      M      27  5.0     None\n",
      "11                 Foxy Stumptail    Pem     NM      29  5.5     None\n",
      "12                      Drederick    Pem      M      29  4.5     None\n",
      "13              Lady Wigglebottom    Pem      F      28  4.0     None\n",
      "14                       Jedediah    Pem     NM      30  4.0     None\n",
      "15                   Miss Juniper    Pem     SF      21  2.5     None\n",
      "16            Mary Queen of Corgs    Pem     SF      23  4.5     None\n",
      "17                        Oatmeal    Pem     SF      26  5.5     None\n",
      "18                     Cowboy Dan    Pem      M      26  5.5     None\n",
      "19                    Gareth Bale    Pem     NM      31  5.0     None\n",
      "20                  Winston Smith  Cardi      M      32  4.5     None\n",
      "21                          Bucco    Pem      M      32  4.0     None\n",
      "22                       Fruitcup  Cardi      F      23  2.5     None\n",
      "23                      Sweet Dee    Pem     SF      20  5.0     None\n",
      "24                      Stonewall    Pem     NM      29  2.5     None\n"
     ]
    }
   ],
   "source": [
    "# 2.\n",
    "import psycopg2\n",
    "import pandas as pd\n",
    "import warnings\n",
    "warnings.filterwarnings('ignore')\n",
    "\n",
    "conn = psycopg2.connect(\n",
    "database='corgirace',\n",
    "user='USER',\n",
    "password='PASSWORD',\n",
    "host='HOST',\n",
    "port= '5432'\n",
    ")\n",
    "cursor = conn.cursor()\n",
    "df = pd.read_sql('''\n",
    "SELECT\n",
    "    *\n",
    "FROM corgi''', conn, index_col='corgid')\n",
    "print(df)"
   ]
  },
  {
   "cell_type": "code",
   "execution_count": 3,
   "metadata": {},
   "outputs": [
    {
     "name": "stdout",
     "output_type": "stream",
     "text": [
      "corgname: Must be a string value less than 50 characters\n",
      "breed: Acceptable values are Pem and Cardi\n",
      "gender: Acceptable values are F, M, SF, or NM\n",
      "weight: Must be a positive integer below 70\n",
      "age: Must be a positive numerical value below 20, rounded to the nearest half year\n"
     ]
    }
   ],
   "source": [
    "# 3.\n",
    "print('corgname: Must be a string value less than 50 characters')\n",
    "print('breed: Acceptable values are Pem and Cardi')\n",
    "print('gender: Acceptable values are F, M, SF, or NM')\n",
    "print('weight: Must be a positive integer below 70')\n",
    "print('age: Must be a positive numerical value below 20, rounded to the nearest half year')"
   ]
  },
  {
   "cell_type": "code",
   "execution_count": 4,
   "metadata": {},
   "outputs": [],
   "source": [
    "# 4.\n",
    "query = '''\n",
    "CREATE TABLE IF NOT EXISTS ingest (\n",
    "    filename VARCHAR(60) PRIMARY KEY,\n",
    "    whendone TIMESTAMP NOT NULL);\n",
    "'''\n",
    "cursor.execute(query)\n",
    "conn.commit()"
   ]
  },
  {
   "cell_type": "code",
   "execution_count": 5,
   "metadata": {},
   "outputs": [
    {
     "name": "stdout",
     "output_type": "stream",
     "text": [
      "                     corgname fromfile\n",
      "0               Snappy Ginger     None\n",
      "1               Golden Graham     None\n",
      "2                      Kraken     None\n",
      "3                 Snarla June     None\n",
      "4             Smiley Shortdog     None\n",
      "5                     Stanley     None\n",
      "6            Holden Corgfield     None\n",
      "7       Penny the Shedmonster     None\n",
      "8   Baroness von Fluffyshanks     None\n",
      "9                  Prometheus     None\n",
      "10             Foxy Stumptail     None\n",
      "11                  Drederick     None\n",
      "12          Lady Wigglebottom     None\n",
      "13                   Jedediah     None\n",
      "14               Miss Juniper     None\n",
      "15        Mary Queen of Corgs     None\n",
      "16                    Oatmeal     None\n",
      "17                 Cowboy Dan     None\n",
      "18                Gareth Bale     None\n",
      "19              Winston Smith     None\n",
      "20                      Bucco     None\n",
      "21                   Fruitcup     None\n",
      "22                  Sweet Dee     None\n",
      "23                  Stonewall     None\n"
     ]
    }
   ],
   "source": [
    "# 5.\n",
    "query = '''\n",
    "ALTER TABLE corgi\n",
    "ADD COLUMN IF NOT EXISTS fromfile VARCHAR(60);\n",
    "'''\n",
    "cursor.execute(query)\n",
    "conn.commit()\n",
    "\n",
    "df = pd.read_sql('''\n",
    "SELECT\n",
    "    corgname,\n",
    "    fromfile\n",
    "FROM corgi''', conn)\n",
    "print(df)"
   ]
  },
  {
   "cell_type": "code",
   "execution_count": 10,
   "metadata": {},
   "outputs": [
    {
     "name": "stdout",
     "output_type": "stream",
     "text": [
      "File newcorgis-20220618.csv has already been processed\n"
     ]
    }
   ],
   "source": [
    "# 6.\n",
    "csvname = 'newcorgis-20220618.csv'\n",
    "cursor.execute(f'''\n",
    "SELECT\n",
    "    COUNT(*)\n",
    "FROM ingest\n",
    "WHERE filename = '{csvname}';\n",
    "''')\n",
    "y = cursor.fetchone()\n",
    "if y[0] > 0:\n",
    "    print(f'File {csvname} has already been processed')\n",
    "else:\n",
    "    print(f'File {csvname} has been accepted for processing.')\n",
    "\n",
    "    df2 = pd.read_csv(csvname)\n",
    "    df2['Gender'].replace(to_replace='Fem', value='F', inplace=True)\n",
    "    df2['Breed'].replace(to_replace=['PWC', 'CWC'], value=['Pem', 'Cardi'], inplace=True)\n",
    "    df2['Weight'] = round(df2['Weight'])\n",
    "\n",
    "    for x in df2.index:\n",
    "        cursor.execute(f'''\n",
    "            INSERT INTO corgi (corgname, breed, gender, weight, age, fromfile)\n",
    "            VALUES (\n",
    "            '{df2.loc[x]['Name']}',\n",
    "            '{df2.loc[x]['Breed']}',\n",
    "            '{df2.loc[x]['Gender']}',\n",
    "            {df2.loc[x]['Weight']},\n",
    "            {df2.loc[x]['Age']},\n",
    "            '{csvname}');\n",
    "        ''')\n",
    "        conn.commit()\n",
    "        print(f\"Record created for {df2.loc[x]['Name']}.\")\n",
    "        \n",
    "    cursor.execute(f'''\n",
    "        INSERT INTO ingest (filename, whendone)\n",
    "        VALUES ('{csvname}', CURRENT_TIMESTAMP);\n",
    "    ''')\n",
    "    conn.commit()\n",
    "\n",
    "    print(f'Ingestion complete for {csvname}')\n",
    "\n",
    "    df = pd.read_sql(f\"SELECT * FROM ingest WHERE filename = '{csvname}';\", conn, index_col='filename')\n",
    "    print(df)\n",
    "\n"
   ]
  },
  {
   "cell_type": "code",
   "execution_count": 11,
   "metadata": {},
   "outputs": [
    {
     "name": "stdout",
     "output_type": "stream",
     "text": [
      "               corgname  breed gender  weight  age                fromfile\n",
      "corgid                                                                    \n",
      "64             Francine    Pem      F      24  3.5  newcorgis-20220618.csv\n",
      "65             Prudence    Pem     SF      29  4.0  newcorgis-20220618.csv\n",
      "66            Fort Knox  Cardi     NM      34  3.3  newcorgis-20220618.csv\n",
      "67              Gruyere    Pem     SF      22  1.5  newcorgis-20220618.csv\n",
      "68         Sir Barxalot    Pem      M      26  2.0  newcorgis-20220618.csv\n",
      "69          Tuning Fork  Cardi     NM      29  1.8  newcorgis-20220618.csv\n",
      "70              Wiffles    Pem     SF      23  5.0  newcorgis-20220618.csv\n",
      "71               Wumpus    Pem      F      26  1.2  newcorgis-20220618.csv\n",
      "72      Qween Kanonball    Pem      F      29  3.5  newcorgis-20220618.csv\n"
     ]
    }
   ],
   "source": [
    "# 7.\n",
    "dfv = pd.read_sql(f'''\n",
    "    SELECT\n",
    "        *\n",
    "    FROM corgi\n",
    "    WHERE fromfile = '{csvname}'\n",
    "''', conn, index_col='corgid')\n",
    "print(dfv)"
   ]
  },
  {
   "cell_type": "code",
   "execution_count": null,
   "metadata": {},
   "outputs": [],
   "source": []
  }
 ],
 "metadata": {
  "kernelspec": {
   "display_name": "base",
   "language": "python",
   "name": "python3"
  },
  "language_info": {
   "codemirror_mode": {
    "name": "ipython",
    "version": 3
   },
   "file_extension": ".py",
   "mimetype": "text/x-python",
   "name": "python",
   "nbconvert_exporter": "python",
   "pygments_lexer": "ipython3",
   "version": "3.10.14"
  }
 },
 "nbformat": 4,
 "nbformat_minor": 2
}
