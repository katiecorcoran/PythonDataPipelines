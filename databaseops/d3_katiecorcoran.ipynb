{
 "cells": [
  {
   "cell_type": "code",
   "execution_count": 18,
   "id": "59d4ab75-053e-455d-ba69-7a227de5fce4",
   "metadata": {},
   "outputs": [],
   "source": [
    "# 1. Katie Corcoran"
   ]
  },
  {
   "cell_type": "code",
   "execution_count": 19,
   "id": "ac02a728-5fe6-4324-a006-be942ab6d3ff",
   "metadata": {},
   "outputs": [],
   "source": [
    "# 2.\n",
    "# CREATE DATABASE corgirace;"
   ]
  },
  {
   "cell_type": "code",
   "execution_count": 1,
   "id": "b57faff6-2b35-41fc-a7ec-e9cfaad1b033",
   "metadata": {},
   "outputs": [],
   "source": [
    "# 3. Setup\n",
    "import psycopg2\n",
    "import warnings\n",
    "import pandas as pd\n",
    "warnings.filterwarnings('ignore')\n",
    "\n",
    "conn = psycopg2.connect(\n",
    "database='corgirace',\n",
    "user='USER',\n",
    "password='PASSWORD',\n",
    "host='HOST',\n",
    "port= '5432'\n",
    ")\n",
    "cursor = conn.cursor()"
   ]
  },
  {
   "cell_type": "code",
   "execution_count": 3,
   "id": "832f8b87-5a2f-44fc-b0a9-9eb1f12819b1",
   "metadata": {},
   "outputs": [],
   "source": [
    "# 3. Corgi\n",
    "query = '''\n",
    "CREATE TABLE IF NOT EXISTS Corgi (\n",
    "    CorgID SERIAL PRIMARY KEY,\n",
    "    CorgName VARCHAR(60) NOT NULL,\n",
    "    Breed VARCHAR(10) NOT NULL,\n",
    "    Gender VARCHAR(2),\n",
    "    Weight SMALLINT,\n",
    "    Age NUMERIC(3, 1));\n",
    "'''\n",
    "cursor.execute(query)\n",
    "conn.commit()"
   ]
  },
  {
   "cell_type": "code",
   "execution_count": 5,
   "id": "947179d2-d281-447e-bae9-429a5328ca71",
   "metadata": {},
   "outputs": [],
   "source": [
    "# 3. Race\n",
    "query = '''\n",
    "CREATE TABLE IF NOT EXISTS Race (\n",
    "    RaceID SERIAL PRIMARY KEY,\n",
    "    RaceName VARCHAR(60) NOT NULL,\n",
    "    RaceState CHAR(2),\n",
    "    RaceDate DATE,\n",
    "    RaceTemp SMALLINT);\n",
    "'''\n",
    "cursor.execute(query)\n",
    "conn.commit()"
   ]
  },
  {
   "cell_type": "code",
   "execution_count": 7,
   "id": "c836d95e-aba3-44df-9618-833aff780687",
   "metadata": {},
   "outputs": [],
   "source": [
    "# 3. Outcome\n",
    "query = '''\n",
    "CREATE TABLE IF NOT EXISTS Outcome (\n",
    "    OutcomeID SERIAL PRIMARY KEY,\n",
    "    CorgID INT NOT NULL,\n",
    "    RaceID INT NOT NULL,\n",
    "    RaceTime NUMERIC(5,2));\n",
    "'''\n",
    "cursor.execute(query)\n",
    "conn.commit()"
   ]
  },
  {
   "cell_type": "code",
   "execution_count": 9,
   "id": "4c99ad5a-969d-4f8c-9986-e6045b9811e8",
   "metadata": {},
   "outputs": [],
   "source": [
    "# 4.\n",
    "df = pd.read_csv('corgi.csv')\n",
    "for x in df.index:\n",
    "    cursor.execute(f'''\n",
    "        INSERT INTO Corgi (CorgName, Breed, Gender, Weight, Age)\n",
    "        VALUES (\n",
    "        '{ df.loc[x]['CorgName']}', \n",
    "        '{df.loc[x]['Breed']}', \n",
    "        '{df.loc[x]['Gender']}', \n",
    "        {df.loc[x]['Weight']}, \n",
    "        {df.loc[x]['Age']});\n",
    "    ''')\n",
    "    conn.commit()"
   ]
  },
  {
   "cell_type": "code",
   "execution_count": 11,
   "id": "d266d297-2a3f-4d2d-a446-4606867a1610",
   "metadata": {},
   "outputs": [
    {
     "name": "stdout",
     "output_type": "stream",
     "text": [
      "                         corgname  breed gender  weight  age\n",
      "corgid                                                      \n",
      "9       Baroness von Fluffyshanks    Pem     SF      22  4.0\n",
      "21                          Bucco    Pem      M      32  4.0\n",
      "18                     Cowboy Dan    Pem      M      26  5.5\n",
      "12                      Drederick    Pem      M      29  4.5\n",
      "11                 Foxy Stumptail    Pem     NM      29  5.5\n",
      "22                       Fruitcup  Cardi      F      23  2.5\n",
      "19                    Gareth Bale    Pem     NM      31  5.0\n",
      "2                   Golden Graham    Pem      M      30  2.0\n",
      "7                Holden Corgfield    Pem      M      25  4.0\n",
      "25                 Hywel the Woof    Pem      M      28  2.0\n"
     ]
    }
   ],
   "source": [
    "# 5.\n",
    "query = '''\n",
    "SELECT\n",
    "    *\n",
    "FROM Corgi\n",
    "ORDER BY CorgName\n",
    "LIMIT 10\n",
    "'''\n",
    "\n",
    "df = pd.read_sql(query, conn, index_col='corgid')\n",
    "print(df)"
   ]
  },
  {
   "cell_type": "code",
   "execution_count": 13,
   "id": "35d32c21-e73c-4dc5-849e-cf18f2832d2f",
   "metadata": {},
   "outputs": [],
   "source": [
    "# 6.\n",
    "df = pd.read_csv('race.csv')\n",
    "for x in df.index:\n",
    "    cursor.execute(f'''\n",
    "        INSERT INTO Race (RaceName, RaceState, RaceDate, RaceTemp)\n",
    "        VALUES (\n",
    "        '{ df.loc[x]['RaceName']}', \n",
    "        '{df.loc[x]['RaceState']}', \n",
    "        '{df.loc[x]['RaceDate']}', \n",
    "        {df.loc[x]['RaceTemp']});\n",
    "    ''')\n",
    "    conn.commit()"
   ]
  },
  {
   "cell_type": "code",
   "execution_count": 15,
   "id": "0f17183c-bb97-47ea-a42a-5014324d8440",
   "metadata": {},
   "outputs": [
    {
     "name": "stdout",
     "output_type": "stream",
     "text": [
      "                   racename racestate    racedate  racetemp\n",
      "raceid                                                     \n",
      "1            Del Mar Trophy        CA  2018-06-03        80\n",
      "2            Memorial Derby        WA  2018-06-17        77\n",
      "3               Dixie Derby        UT  2018-06-24        95\n",
      "4              Missions Cup        CA  2018-06-30        73\n",
      "5           Borderside Dash        WA  2018-07-21        74\n",
      "6              Teton Runoff        WY  2018-07-29        77\n",
      "7             Emerald Chase        WA  2018-08-05        89\n",
      "8       Billings Grand Prix        MT  2018-08-12        95\n",
      "9                 Idaho Cup        ID  2018-08-19        93\n",
      "10          Bachelor Stakes        OR  2018-08-26        87\n"
     ]
    }
   ],
   "source": [
    "# 7.\n",
    "query = '''\n",
    "SELECT\n",
    "    *\n",
    "FROM Race\n",
    "ORDER BY RaceDate\n",
    "LIMIT 10\n",
    "'''\n",
    "\n",
    "df = pd.read_sql(query, conn, index_col='raceid')\n",
    "print(df)"
   ]
  },
  {
   "cell_type": "code",
   "execution_count": 17,
   "id": "06295abe-fc03-4160-822f-83de981b5395",
   "metadata": {},
   "outputs": [],
   "source": [
    "# 8.\n",
    "df = pd.read_csv('outcome.csv')\n",
    "for x in df.index:\n",
    "    cursor.execute(f'''\n",
    "        INSERT INTO Outcome (CorgID, RaceID, RaceTime)\n",
    "        VALUES (\n",
    "        { df.loc[x]['CorgID']}, \n",
    "        {df.loc[x]['RaceID']}, \n",
    "        {df.loc[x]['RaceTime']});\n",
    "    ''')\n",
    "    conn.commit()"
   ]
  },
  {
   "cell_type": "code",
   "execution_count": 19,
   "id": "16ffe30e-bc1c-4167-b3c0-a45e45ba7da3",
   "metadata": {},
   "outputs": [
    {
     "name": "stdout",
     "output_type": "stream",
     "text": [
      "           corgid  raceid  racetime\n",
      "outcomeid                          \n",
      "116            14      10     40.07\n",
      "123             4      11     40.10\n",
      "45             21       4     40.73\n",
      "28              9       3     40.74\n",
      "27              8       3     40.94\n",
      "12             25       1     41.26\n",
      "95             24       8     42.59\n",
      "57             19       5     42.75\n",
      "10             21       1     42.96\n",
      "58             25       5     42.97\n"
     ]
    }
   ],
   "source": [
    "# 9.\n",
    "query = '''\n",
    "SELECT\n",
    "    *\n",
    "FROM Outcome\n",
    "ORDER BY RaceTime\n",
    "LIMIT 10\n",
    "'''\n",
    "\n",
    "df = pd.read_sql(query, conn, index_col='outcomeid')\n",
    "print(df)"
   ]
  },
  {
   "cell_type": "code",
   "execution_count": null,
   "id": "5d61f1bb-3ffd-4893-8c80-903518bde010",
   "metadata": {},
   "outputs": [],
   "source": []
  }
 ],
 "metadata": {
  "kernelspec": {
   "display_name": "Python 3 (ipykernel)",
   "language": "python",
   "name": "python3"
  },
  "language_info": {
   "codemirror_mode": {
    "name": "ipython",
    "version": 3
   },
   "file_extension": ".py",
   "mimetype": "text/x-python",
   "name": "python",
   "nbconvert_exporter": "python",
   "pygments_lexer": "ipython3",
   "version": "3.10.14"
  }
 },
 "nbformat": 4,
 "nbformat_minor": 5
}
