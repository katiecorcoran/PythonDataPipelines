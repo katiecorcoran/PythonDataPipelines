{
 "cells": [
  {
   "cell_type": "code",
   "execution_count": null,
   "metadata": {},
   "outputs": [],
   "source": [
    "# 1. Katie Corcoran"
   ]
  },
  {
   "cell_type": "code",
   "execution_count": 1,
   "metadata": {},
   "outputs": [
    {
     "name": "stdout",
     "output_type": "stream",
     "text": [
      "pdx623.csv\n",
      "portlandeventjun22.csv\n",
      "newreg-062822.csv\n",
      "Icon\n",
      "newcorgis-20220619.csv\n",
      "newcorgis-20220618.csv\n",
      "signupsjune272022.csv\n",
      "tacoma-062322.csv\n"
     ]
    }
   ],
   "source": [
    "# 2.\n",
    "import os\n",
    "import pandas as pd\n",
    "import warnings\n",
    "warnings.filterwarnings('ignore')\n",
    "\n",
    "path = '/Users/katiecorcoran/Dropbox/5330corgis'\n",
    "files = os.listdir(path)\n",
    "for file in files:\n",
    "    print(file)"
   ]
  },
  {
   "cell_type": "code",
   "execution_count": 3,
   "metadata": {},
   "outputs": [
    {
     "name": "stdout",
     "output_type": "stream",
     "text": [
      "                            Name Breed Gender  Weight  Age\n",
      "0  Wendell of the Gnashing Teeth   CWC     NM      32  3.3\n",
      "1                Trotsky the Dog   Pem     SF      23  5.5\n",
      "2                CanCan of Beans   Pem     SF      25  4.2\n",
      "3             Harvey the Younger   PWC      M      22  1.1\n",
      "4                 Jenni the Shiv   PWC     SF      28  3.0\n",
      "5           Ogbert the Semi-Wise   Pem     NM      25  4.0\n",
      "6                Jeff OCorgosaur   PWC      M      27  2.0\n",
      "7                  Poofy Mudfoot   Pem     SF      23  2.1\n"
     ]
    }
   ],
   "source": [
    "# 3.\n",
    "df = pd.read_csv(f'{path}/pdx623.csv')\n",
    "print(df)"
   ]
  },
  {
   "cell_type": "code",
   "execution_count": 7,
   "metadata": {},
   "outputs": [
    {
     "name": "stdout",
     "output_type": "stream",
     "text": [
      "File pdx623.csv needs to be processed.\n",
      "Record created for Wendell of the Gnashing Teeth.\n",
      "Record created for Trotsky the Dog.\n",
      "Record created for CanCan of Beans.\n",
      "Record created for Harvey the Younger.\n",
      "Record created for Jenni the Shiv.\n",
      "Record created for Ogbert the Semi-Wise.\n",
      "Record created for Jeff OCorgosaur.\n",
      "Record created for Poofy Mudfoot.\n",
      "File portlandeventjun22.csv needs to be processed.\n",
      "Record created for Amber Waves of Fur.\n",
      "Record created for Kodlak Whitemane.\n",
      "Record created for Floaty Bee.\n",
      "Record created for Bag o Donuts.\n",
      "Record created for Hot Ham and Cheese.\n",
      "Record created for Cruzer the Cruzedog.\n",
      "Record created for Sally the Destroyer.\n",
      "Record created for Elma Redfur.\n",
      "Record created for Kool Thing.\n",
      "Record created for Skitters McDogdog.\n",
      "Record created for Ophelio.\n",
      "Record created for Mr. Stealyoursandwich.\n",
      "File newreg-062822.csv needs to be processed.\n",
      "Record created for Megalodon.\n",
      "Record created for Sparky Punkbottom.\n",
      "Record created for Esme the Pointy-Eared.\n",
      "Record created for St. Kodos.\n",
      "Record created for Betty Doggy Sprinty.\n",
      "Skipped file Icon\n",
      "File newcorgis-20220619.csv needs to be processed.\n",
      "Record created for Splüüter.\n",
      "Record created for Vampira.\n",
      "Record created for Heracles.\n",
      "Record created for Spatula.\n",
      "Record created for Maisey the Faerie Empress.\n",
      "File newcorgis-20220618.csv has already been processed\n",
      "File signupsjune272022.csv needs to be processed.\n",
      "Record created for Cashew Nut.\n",
      "Record created for Grover Cleveland.\n",
      "Record created for Treacle.\n",
      "Record created for Kraft Dinner.\n",
      "Record created for Ryebread Megadog.\n",
      "Record created for Courtesy Check.\n",
      "File tacoma-062322.csv needs to be processed.\n",
      "Record created for Dogpup.\n",
      "Record created for Oscar the Gaucho.\n",
      "Record created for Cleopupra.\n",
      "Record created for Briar Rose.\n",
      "Record created for Flannery ODogger.\n",
      "Record created for Facepalm.\n",
      "Record created for Mugwort.\n"
     ]
    }
   ],
   "source": [
    "# 4.\n",
    "import psycopg2\n",
    "\n",
    "conn = psycopg2.connect(\n",
    "database='corgirace',\n",
    "user='USER',\n",
    "password='PASSWORD',\n",
    "host='HOST',\n",
    "port= '5432')\n",
    "cursor = conn.cursor()\n",
    "\n",
    "for file in files:\n",
    "    # skip if file is not csv\n",
    "    if file[-3:] != 'csv':\n",
    "        print(f'Skipped file {file}')\n",
    "        continue\n",
    "    \n",
    "    # check if file already exists\n",
    "    cursor.execute(f'''\n",
    "        SELECT\n",
    "            COUNT(*)\n",
    "        FROM ingest\n",
    "        WHERE filename = '{file}';\n",
    "    ''')\n",
    "    y = cursor.fetchone()\n",
    "    if y[0] > 0:\n",
    "        print(f'File {file} has already been processed')\n",
    "        continue\n",
    "    \n",
    "    # process the file\n",
    "    print(f'File {file} needs to be processed.')\n",
    "    df = pd.read_csv(f'{path}/{file}')\n",
    "    # ensure the data is in the right format\n",
    "    df['Gender'].replace(to_replace='Fem', value='F', inplace=True)\n",
    "    df['Breed'].replace(to_replace=['PWC', 'CWC'], value=['Pem', 'Cardi'], inplace=True)\n",
    "    df['Weight'] = round(df['Weight'])\n",
    "    \n",
    "    # insert into database\n",
    "    for x in df.index:\n",
    "        cursor.execute(f'''\n",
    "            INSERT INTO corgi (corgname, breed, gender, weight, age, fromfile)\n",
    "            VALUES (\n",
    "            '{df.loc[x]['Name']}',\n",
    "            '{df.loc[x]['Breed']}',\n",
    "            '{df.loc[x]['Gender']}',\n",
    "            {df.loc[x]['Weight']},\n",
    "            {df.loc[x]['Age']},\n",
    "            '{file}');\n",
    "        ''')\n",
    "        conn.commit()\n",
    "        print(f\"Record created for {df.loc[x]['Name']}.\")\n",
    "        \n",
    "    # insert into ingest table\n",
    "    cursor.execute(f'''\n",
    "        INSERT INTO ingest (filename, whendone)\n",
    "        VALUES ('{file}', CURRENT_TIMESTAMP);\n",
    "    ''')\n",
    "    conn.commit()"
   ]
  },
  {
   "cell_type": "code",
   "execution_count": 9,
   "metadata": {},
   "outputs": [
    {
     "name": "stdout",
     "output_type": "stream",
     "text": [
      "                             corgname                filename        date\n",
      "corgid                                                                   \n",
      "81                 Amber Waves of Fur  portlandeventjun22.csv  2024-10-15\n",
      "84                       Bag o Donuts  portlandeventjun22.csv  2024-10-15\n",
      "97                Betty Doggy Sprinty       newreg-062822.csv  2024-10-15\n",
      "112                        Briar Rose       tacoma-062322.csv  2024-10-15\n",
      "75                    CanCan of Beans              pdx623.csv  2024-10-15\n",
      "103                        Cashew Nut   signupsjune272022.csv  2024-10-15\n",
      "111                         Cleopupra       tacoma-062322.csv  2024-10-15\n",
      "108                    Courtesy Check   signupsjune272022.csv  2024-10-15\n",
      "86                Cruzer the Cruzedog  portlandeventjun22.csv  2024-10-15\n",
      "109                            Dogpup       tacoma-062322.csv  2024-10-15\n",
      "88                        Elma Redfur  portlandeventjun22.csv  2024-10-15\n",
      "95              Esme the Pointy-Eared       newreg-062822.csv  2024-10-15\n",
      "114                          Facepalm       tacoma-062322.csv  2024-10-15\n",
      "113                  Flannery ODogger       tacoma-062322.csv  2024-10-15\n",
      "83                         Floaty Bee  portlandeventjun22.csv  2024-10-15\n",
      "66                          Fort Knox  newcorgis-20220618.csv  2024-10-11\n",
      "64                           Francine  newcorgis-20220618.csv  2024-10-11\n",
      "104                  Grover Cleveland   signupsjune272022.csv  2024-10-15\n",
      "67                            Gruyere  newcorgis-20220618.csv  2024-10-11\n",
      "76                 Harvey the Younger              pdx623.csv  2024-10-15\n",
      "100                          Heracles  newcorgis-20220619.csv  2024-10-15\n",
      "85                 Hot Ham and Cheese  portlandeventjun22.csv  2024-10-15\n",
      "79                    Jeff OCorgosaur              pdx623.csv  2024-10-15\n",
      "77                     Jenni the Shiv              pdx623.csv  2024-10-15\n",
      "82                   Kodlak Whitemane  portlandeventjun22.csv  2024-10-15\n",
      "89                         Kool Thing  portlandeventjun22.csv  2024-10-15\n",
      "106                      Kraft Dinner   signupsjune272022.csv  2024-10-15\n",
      "102         Maisey the Faerie Empress  newcorgis-20220619.csv  2024-10-15\n",
      "93                          Megalodon       newreg-062822.csv  2024-10-15\n",
      "92              Mr. Stealyoursandwich  portlandeventjun22.csv  2024-10-15\n",
      "115                           Mugwort       tacoma-062322.csv  2024-10-15\n",
      "78               Ogbert the Semi-Wise              pdx623.csv  2024-10-15\n",
      "91                            Ophelio  portlandeventjun22.csv  2024-10-15\n",
      "110                  Oscar the Gaucho       tacoma-062322.csv  2024-10-15\n",
      "80                      Poofy Mudfoot              pdx623.csv  2024-10-15\n",
      "65                           Prudence  newcorgis-20220618.csv  2024-10-11\n",
      "72                    Qween Kanonball  newcorgis-20220618.csv  2024-10-11\n",
      "107                  Ryebread Megadog   signupsjune272022.csv  2024-10-15\n",
      "87                Sally the Destroyer  portlandeventjun22.csv  2024-10-15\n",
      "68                       Sir Barxalot  newcorgis-20220618.csv  2024-10-11\n",
      "90                  Skitters McDogdog  portlandeventjun22.csv  2024-10-15\n",
      "94                  Sparky Punkbottom       newreg-062822.csv  2024-10-15\n",
      "101                           Spatula  newcorgis-20220619.csv  2024-10-15\n",
      "98                           Splüüter  newcorgis-20220619.csv  2024-10-15\n",
      "96                          St. Kodos       newreg-062822.csv  2024-10-15\n",
      "105                           Treacle   signupsjune272022.csv  2024-10-15\n",
      "74                    Trotsky the Dog              pdx623.csv  2024-10-15\n",
      "69                        Tuning Fork  newcorgis-20220618.csv  2024-10-11\n",
      "99                            Vampira  newcorgis-20220619.csv  2024-10-15\n",
      "73      Wendell of the Gnashing Teeth              pdx623.csv  2024-10-15\n",
      "70                            Wiffles  newcorgis-20220618.csv  2024-10-11\n",
      "71                             Wumpus  newcorgis-20220618.csv  2024-10-11\n"
     ]
    },
    {
     "name": "stderr",
     "output_type": "stream",
     "text": [
      "/var/folders/44/s9hsvm1943z9xb042mqxxtgc0000gn/T/ipykernel_14745/1021812437.py:2: UserWarning: pandas only supports SQLAlchemy connectable (engine/connection) or database string URI or sqlite3 DBAPI2 connection. Other DBAPI2 objects are not tested. Please consider using SQLAlchemy.\n",
      "  df = pd.read_sql('''\n"
     ]
    }
   ],
   "source": [
    "# 5.\n",
    "df = pd.read_sql('''\n",
    "SELECT\n",
    "    corgi.corgid,\n",
    "    corgi.corgname,\n",
    "    ingest.filename,\n",
    "    DATE(ingest.whendone)\n",
    "FROM corgi\n",
    "JOIN ingest ON ingest.filename = corgi.fromfile\n",
    "WHERE DATE_TRUNC('month', ingest.whendone) = DATE_TRUNC('month', CURRENT_TIMESTAMP)\n",
    "ORDER BY corgi.corgname;\n",
    "''', conn, index_col='corgid')\n",
    "print(df)"
   ]
  },
  {
   "cell_type": "code",
   "execution_count": null,
   "metadata": {},
   "outputs": [],
   "source": []
  }
 ],
 "metadata": {
  "kernelspec": {
   "display_name": "base",
   "language": "python",
   "name": "python3"
  },
  "language_info": {
   "codemirror_mode": {
    "name": "ipython",
    "version": 3
   },
   "file_extension": ".py",
   "mimetype": "text/x-python",
   "name": "python",
   "nbconvert_exporter": "python",
   "pygments_lexer": "ipython3",
   "version": "3.10.14"
  }
 },
 "nbformat": 4,
 "nbformat_minor": 2
}
