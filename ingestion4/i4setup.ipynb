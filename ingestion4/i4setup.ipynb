{
 "cells": [
  {
   "cell_type": "code",
   "execution_count": 1,
   "id": "4e2264bb",
   "metadata": {},
   "outputs": [],
   "source": [
    "import pandas as pd\n",
    "import psycopg2\n",
    "\n",
    "#establishing the connection\n",
    "conn = psycopg2.connect(\n",
    "    database=\"loftsvc\", \n",
    "    user='USER', # Enter your AWS username here\n",
    "    password='PASSWORD', # Enter your database password here\n",
    "    host='HOST', # Enter your AWS database server endpoint here\n",
    "    port= '5432'\n",
    ")\n",
    "#Creating a cursor object using the cursor() method\n",
    "cursor = conn.cursor()\n",
    "\n",
    "query = '''CREATE TABLE IF NOT EXISTS Building (\n",
    "           bldgid INT PRIMARY KEY,\n",
    "           bldgname VARCHAR(100) NOT NULL,\n",
    "           unitrange VARCHAR(30)\n",
    "        );'''\n",
    "\n",
    "cursor.execute(query)\n",
    "conn.commit()\n",
    "\n",
    "query = '''CREATE TABLE IF NOT EXISTS ExceptionLog (\n",
    "           exceptid SERIAL PRIMARY KEY,\n",
    "           record TEXT,\n",
    "           fixstamp TIMESTAMP\n",
    "        );'''\n",
    "\n",
    "cursor.execute(query)\n",
    "conn.commit()\n",
    "\n",
    "query = '''CREATE TABLE IF NOT EXISTS ReqType (\n",
    "           rtid INT PRIMARY KEY,\n",
    "           typename VARCHAR(30) NOT NULL,\n",
    "           typedesc VARCHAR(255)\n",
    "        );'''\n",
    "\n",
    "cursor.execute(query)\n",
    "conn.commit()\n",
    "\n",
    "query = '''CREATE TABLE IF NOT EXISTS ServReq (\n",
    "           srid SERIAL PRIMARY KEY,\n",
    "           tenantid INT NOT NULL,\n",
    "           rtid INT NOT NULL,\n",
    "           bldgid INT NOT NULL,\n",
    "           reqdate DATE NOT NULL,\n",
    "           unit SMALLINT NOT NULL,\n",
    "           reqdescription TEXT,\n",
    "           compstamp TIMESTAMP\n",
    "        );'''\n",
    "\n",
    "cursor.execute(query)\n",
    "conn.commit()\n",
    "\n",
    "query = '''CREATE TABLE IF NOT EXISTS Tenant (\n",
    "           tenantid SERIAL PRIMARY KEY,\n",
    "           fname VARCHAR(50) NOT NULL,\n",
    "           lname VARCHAR(50) NOT NULL,\n",
    "           phonenum CHAR(14) NOT NULL\n",
    "        );'''\n",
    "\n",
    "cursor.execute(query)\n",
    "conn.commit()"
   ]
  },
  {
   "cell_type": "code",
   "execution_count": 2,
   "id": "f6d0441e",
   "metadata": {},
   "outputs": [
    {
     "name": "stdout",
     "output_type": "stream",
     "text": [
      "              bldgname unitrange\n",
      "bldgid                          \n",
      "1             Antietam   101-198\n",
      "2             Bull Run   201-298\n",
      "3           Charleston   301-398\n",
      "4              Detroit   401-498\n",
      "5         Elkins Ferry   501-598\n",
      "6       Fredericksburg   601-698\n",
      "7           Gettysburg   701-798\n",
      "8               Hudson   801-898\n"
     ]
    },
    {
     "name": "stderr",
     "output_type": "stream",
     "text": [
      "/var/folders/44/s9hsvm1943z9xb042mqxxtgc0000gn/T/ipykernel_34180/4127244328.py:15: UserWarning: pandas only supports SQLAlchemy connectable (engine/connection) or database string URI or sqlite3 DBAPI2 connection. Other DBAPI2 objects are not tested. Please consider using SQLAlchemy.\n",
      "  df = pd.read_sql(query, conn, index_col='bldgid')\n"
     ]
    }
   ],
   "source": [
    "### DO NOT RUN THIS CELL MULTIPLE TIMES WITHOUT DELETING THE DATA OUT OF THE TABLE FIRST ###\n",
    "### Creates the Building table -- should have 8 records when complete ###\n",
    "\n",
    "df = pd.read_csv('building.csv')\n",
    "\n",
    "for x in df.index:\n",
    "    query = f'''INSERT INTO Building (bldgid, bldgname, unitrange)\n",
    "            VALUES ({df['bldgid'].loc[x]}, '{df['bldgname'].loc[x]}', '{df['unitrange'].loc[x]}')'''\n",
    "    \n",
    "    cursor.execute(query)\n",
    "    \n",
    "    conn.commit()\n",
    "    \n",
    "query = '''SELECT * FROM Building;'''\n",
    "df = pd.read_sql(query, conn, index_col='bldgid')\n",
    "print(df)"
   ]
  },
  {
   "cell_type": "code",
   "execution_count": 3,
   "id": "706e35c1",
   "metadata": {},
   "outputs": [
    {
     "name": "stdout",
     "output_type": "stream",
     "text": [
      "   count\n",
      "0     20\n"
     ]
    },
    {
     "name": "stderr",
     "output_type": "stream",
     "text": [
      "/var/folders/44/s9hsvm1943z9xb042mqxxtgc0000gn/T/ipykernel_34180/3677073409.py:18: UserWarning: pandas only supports SQLAlchemy connectable (engine/connection) or database string URI or sqlite3 DBAPI2 connection. Other DBAPI2 objects are not tested. Please consider using SQLAlchemy.\n",
      "  df = pd.read_sql(query, conn)\n"
     ]
    }
   ],
   "source": [
    "### DO NOT RUN THIS CELL MULTIPLE TIMES WITHOUT DELETING THE DATA OUT OF THE TABLE FIRST ###\n",
    "### Creates the ExceptionLog table -- should have 20 records when complete ###\n",
    "\n",
    "df = pd.read_csv('except.csv')\n",
    "\n",
    "for x in df.index:\n",
    "    \n",
    "    df.replace(\"\\'\",\"\",inplace=True)\n",
    "    \n",
    "    query = f\"\"\"INSERT INTO ExceptionLog (record)\n",
    "            VALUES ('{df['record'].loc[x]}')\"\"\"\n",
    "    \n",
    "    cursor.execute(query)\n",
    "    \n",
    "    conn.commit()\n",
    "    \n",
    "query = '''SELECT COUNT(*) FROM ExceptionLog;'''\n",
    "df = pd.read_sql(query, conn)\n",
    "print(df)"
   ]
  },
  {
   "cell_type": "code",
   "execution_count": 4,
   "id": "065eb906",
   "metadata": {},
   "outputs": [
    {
     "name": "stdout",
     "output_type": "stream",
     "text": [
      "   rtid      typename                                           typedesc\n",
      "0     1  connectivity       Issues related to cable, phone, and internet\n",
      "1     2         doors  Issues related to the function of any door fou...\n",
      "2     3    electrical    Electrical issues (lights, outlets, appliances)\n",
      "3     5          hvac  Issues related to heating, ventilation, and/or...\n",
      "4     6      plumbing              Plumbing issues found within the unit\n",
      "5     8       windows       Issues related to any window within the unit\n",
      "6     9         other  Other issues not readily described by any of t...\n"
     ]
    },
    {
     "name": "stderr",
     "output_type": "stream",
     "text": [
      "/var/folders/44/s9hsvm1943z9xb042mqxxtgc0000gn/T/ipykernel_34180/3963926775.py:16: UserWarning: pandas only supports SQLAlchemy connectable (engine/connection) or database string URI or sqlite3 DBAPI2 connection. Other DBAPI2 objects are not tested. Please consider using SQLAlchemy.\n",
      "  df = pd.read_sql(query, conn)\n"
     ]
    }
   ],
   "source": [
    "### DO NOT RUN THIS CELL MULTIPLE TIMES WITHOUT DELETING THE DATA OUT OF THE TABLE FIRST ###\n",
    "### Creates the ReqType table -- should have 7 records when complete ###\n",
    "\n",
    "df = pd.read_csv('reqtype.csv')\n",
    "\n",
    "for x in df.index:\n",
    "    \n",
    "    query = f\"\"\"INSERT INTO ReqType (rtid, typename, typedesc)\n",
    "            VALUES ({df['rtid'].loc[x]}, '{df['typename'].loc[x]}', '{df['typedesc'].loc[x]}')\"\"\"\n",
    "    \n",
    "    cursor.execute(query)\n",
    "    \n",
    "    conn.commit()\n",
    "    \n",
    "query = '''SELECT * FROM ReqType;'''\n",
    "df = pd.read_sql(query, conn)\n",
    "print(df)"
   ]
  },
  {
   "cell_type": "code",
   "execution_count": 5,
   "id": "386c704b",
   "metadata": {},
   "outputs": [
    {
     "name": "stderr",
     "output_type": "stream",
     "text": [
      "/var/folders/44/s9hsvm1943z9xb042mqxxtgc0000gn/T/ipykernel_34180/4148650442.py:17: UserWarning: pandas only supports SQLAlchemy connectable (engine/connection) or database string URI or sqlite3 DBAPI2 connection. Other DBAPI2 objects are not tested. Please consider using SQLAlchemy.\n",
      "  df = pd.read_sql(query, conn)\n"
     ]
    },
    {
     "name": "stdout",
     "output_type": "stream",
     "text": [
      "   count\n",
      "0    114\n"
     ]
    }
   ],
   "source": [
    "### DO NOT RUN THIS CELL MULTIPLE TIMES WITHOUT DELETING THE DATA OUT OF THE TABLE FIRST ###\n",
    "### Creates the ServReq table -- should have 114 records when complete ###\n",
    "\n",
    "df = pd.read_csv('servreq.csv')\n",
    "\n",
    "for x in df.index:\n",
    "    \n",
    "    query = f\"\"\"INSERT INTO ServReq (tenantid, rtid, bldgid, reqdate, unit, reqdescription)\n",
    "            VALUES ({df['tenantid'].loc[x]}, {df['rtid'].loc[x]}, {df['bldgid'].loc[x]}, \n",
    "            '{df['reqdate'].loc[x]}', {df['unit'].loc[x]}, '{df['reqdescription'].loc[x]}')\"\"\"\n",
    "    \n",
    "    cursor.execute(query)\n",
    "    \n",
    "    conn.commit()\n",
    "    \n",
    "query = '''SELECT COUNT(*) FROM ServReq;'''\n",
    "df = pd.read_sql(query, conn)\n",
    "print(df)"
   ]
  },
  {
   "cell_type": "code",
   "execution_count": 6,
   "id": "f2641b75",
   "metadata": {},
   "outputs": [
    {
     "name": "stdout",
     "output_type": "stream",
     "text": [
      "   count\n",
      "0    700\n"
     ]
    },
    {
     "name": "stderr",
     "output_type": "stream",
     "text": [
      "/var/folders/44/s9hsvm1943z9xb042mqxxtgc0000gn/T/ipykernel_34180/739666211.py:17: UserWarning: pandas only supports SQLAlchemy connectable (engine/connection) or database string URI or sqlite3 DBAPI2 connection. Other DBAPI2 objects are not tested. Please consider using SQLAlchemy.\n",
      "  df = pd.read_sql(query, conn)\n"
     ]
    }
   ],
   "source": [
    "### DO NOT RUN THIS CELL MULTIPLE TIMES WITHOUT DELETING THE DATA OUT OF THE TABLE FIRST ###\n",
    "### Creates the Tenant table -- should have 700 records when complete ###\n",
    "### THIS ONE MIGHT TAKE A COUPLE MINUTES ###\n",
    "\n",
    "df = pd.read_csv('tenant.csv')\n",
    "\n",
    "for x in df.index:\n",
    "    \n",
    "    query = f\"\"\"INSERT INTO tenant (fname, lname, phonenum)\n",
    "            VALUES ('{df['fname'].loc[x]}', '{df['lname'].loc[x]}', '{df['phone'].loc[x]}')\"\"\"\n",
    "    \n",
    "    cursor.execute(query)\n",
    "    \n",
    "    conn.commit()\n",
    "    \n",
    "query = '''SELECT COUNT(*) FROM Tenant;'''\n",
    "df = pd.read_sql(query, conn)\n",
    "print(df)"
   ]
  }
 ],
 "metadata": {
  "kernelspec": {
   "display_name": "base",
   "language": "python",
   "name": "python3"
  },
  "language_info": {
   "codemirror_mode": {
    "name": "ipython",
    "version": 3
   },
   "file_extension": ".py",
   "mimetype": "text/x-python",
   "name": "python",
   "nbconvert_exporter": "python",
   "pygments_lexer": "ipython3",
   "version": "3.10.14"
  }
 },
 "nbformat": 4,
 "nbformat_minor": 5
}
