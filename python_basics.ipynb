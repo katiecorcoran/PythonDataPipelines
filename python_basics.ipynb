{
 "cells": [
  {
   "cell_type": "code",
   "execution_count": null,
   "id": "98dcc056-d3e3-4f51-8920-277af770a9bb",
   "metadata": {},
   "outputs": [],
   "source": [
    "# 1. Katie Corcoran"
   ]
  },
  {
   "cell_type": "code",
   "execution_count": 7,
   "id": "33da9afb-428e-4da3-9a61-9522b36aee1d",
   "metadata": {},
   "outputs": [
    {
     "name": "stdout",
     "output_type": "stream",
     "text": [
      "x times 153 = 1683\n",
      "x squared = 121\n",
      "cube root of x = 2.2239800905693152\n"
     ]
    }
   ],
   "source": [
    "# 2. \n",
    "x = 11\n",
    "print(f\"x times 153 = {x * 153}\")\n",
    "print(f\"x squared = {x ** 2}\")\n",
    "print(f\"cube root of x = {x ** (1/3)}\")"
   ]
  },
  {
   "cell_type": "code",
   "execution_count": 9,
   "id": "edc71059-4e27-4656-95cf-98d84fe429e4",
   "metadata": {},
   "outputs": [
    {
     "name": "stdin",
     "output_type": "stream",
     "text": [
      "Guess a number between 1 and 100: 50\n"
     ]
    },
    {
     "name": "stdout",
     "output_type": "stream",
     "text": [
      "Too high\n"
     ]
    },
    {
     "name": "stdin",
     "output_type": "stream",
     "text": [
      "Guess a number between 1 and 100: 25\n"
     ]
    },
    {
     "name": "stdout",
     "output_type": "stream",
     "text": [
      "Too low\n"
     ]
    },
    {
     "name": "stdin",
     "output_type": "stream",
     "text": [
      "Guess a number between 1 and 100: 40\n"
     ]
    },
    {
     "name": "stdout",
     "output_type": "stream",
     "text": [
      "Too low\n"
     ]
    },
    {
     "name": "stdin",
     "output_type": "stream",
     "text": [
      "Guess a number between 1 and 100: 45\n"
     ]
    },
    {
     "name": "stdout",
     "output_type": "stream",
     "text": [
      "Too high\n"
     ]
    },
    {
     "name": "stdin",
     "output_type": "stream",
     "text": [
      "Guess a number between 1 and 100: 44\n"
     ]
    },
    {
     "name": "stdout",
     "output_type": "stream",
     "text": [
      "Too high\n"
     ]
    },
    {
     "name": "stdin",
     "output_type": "stream",
     "text": [
      "Guess a number between 1 and 100: 43\n"
     ]
    },
    {
     "name": "stdout",
     "output_type": "stream",
     "text": [
      "Too high\n"
     ]
    },
    {
     "name": "stdin",
     "output_type": "stream",
     "text": [
      "Guess a number between 1 and 100: 42\n"
     ]
    },
    {
     "name": "stdout",
     "output_type": "stream",
     "text": [
      "Correct! You got it in 7 guesses.\n"
     ]
    }
   ],
   "source": [
    "# 3.\n",
    "import random\n",
    "targetnum = random.randint(1, 100)\n",
    "guess = 0\n",
    "guesses = 0\n",
    "while guess != targetnum:\n",
    "    guesses += 1\n",
    "    guess = int(input(\"Guess a number between 1 and 100:\"))\n",
    "    if guess < targetnum:\n",
    "        print(\"Too low\")\n",
    "    elif guess > targetnum:\n",
    "        print(\"Too high\")\n",
    "    else:\n",
    "        print(f\"Correct! You got it in {guesses} guesses.\")"
   ]
  },
  {
   "cell_type": "code",
   "execution_count": 15,
   "id": "85f0b61c-f859-4316-be26-0fadfae04ad3",
   "metadata": {},
   "outputs": [
    {
     "name": "stdin",
     "output_type": "stream",
     "text": [
      "Input an integer or 'q' to quit: r\n"
     ]
    },
    {
     "name": "stdout",
     "output_type": "stream",
     "text": [
      "Please try again\n"
     ]
    },
    {
     "name": "stdin",
     "output_type": "stream",
     "text": [
      "Input an integer or 'q' to quit: t\n"
     ]
    },
    {
     "name": "stdout",
     "output_type": "stream",
     "text": [
      "Please try again\n"
     ]
    },
    {
     "name": "stdin",
     "output_type": "stream",
     "text": [
      "Input an integer or 'q' to quit: !\n"
     ]
    },
    {
     "name": "stdout",
     "output_type": "stream",
     "text": [
      "Please try again\n"
     ]
    },
    {
     "name": "stdin",
     "output_type": "stream",
     "text": [
      "Input an integer or 'q' to quit: []\n"
     ]
    },
    {
     "name": "stdout",
     "output_type": "stream",
     "text": [
      "Please try again\n"
     ]
    },
    {
     "name": "stdin",
     "output_type": "stream",
     "text": [
      "Input an integer or 'q' to quit: 2\n"
     ]
    },
    {
     "name": "stdout",
     "output_type": "stream",
     "text": [
      "Current sum: 2\n"
     ]
    },
    {
     "name": "stdin",
     "output_type": "stream",
     "text": [
      "Input an integer or 'q' to quit: 2\n"
     ]
    },
    {
     "name": "stdout",
     "output_type": "stream",
     "text": [
      "Current sum: 4\n"
     ]
    },
    {
     "name": "stdin",
     "output_type": "stream",
     "text": [
      "Input an integer or 'q' to quit: 4\n"
     ]
    },
    {
     "name": "stdout",
     "output_type": "stream",
     "text": [
      "Current sum: 8\n"
     ]
    },
    {
     "name": "stdin",
     "output_type": "stream",
     "text": [
      "Input an integer or 'q' to quit: 5\n"
     ]
    },
    {
     "name": "stdout",
     "output_type": "stream",
     "text": [
      "Current sum: 13\n"
     ]
    },
    {
     "name": "stdin",
     "output_type": "stream",
     "text": [
      "Input an integer or 'q' to quit: 1\n"
     ]
    },
    {
     "name": "stdout",
     "output_type": "stream",
     "text": [
      "Current sum: 14\n"
     ]
    },
    {
     "name": "stdin",
     "output_type": "stream",
     "text": [
      "Input an integer or 'q' to quit: 1\n"
     ]
    },
    {
     "name": "stdout",
     "output_type": "stream",
     "text": [
      "Current sum: 13\n"
     ]
    },
    {
     "name": "stdin",
     "output_type": "stream",
     "text": [
      "Input an integer or 'q' to quit: 1\n"
     ]
    },
    {
     "name": "stdout",
     "output_type": "stream",
     "text": [
      "Current sum: 12\n"
     ]
    },
    {
     "name": "stdin",
     "output_type": "stream",
     "text": [
      "Input an integer or 'q' to quit: 1\n"
     ]
    },
    {
     "name": "stdout",
     "output_type": "stream",
     "text": [
      "Current sum: 9\n"
     ]
    },
    {
     "name": "stdin",
     "output_type": "stream",
     "text": [
      "Input an integer or 'q' to quit: 1\n"
     ]
    },
    {
     "name": "stdout",
     "output_type": "stream",
     "text": [
      "Current sum: 5\n"
     ]
    },
    {
     "name": "stdin",
     "output_type": "stream",
     "text": [
      "Input an integer or 'q' to quit: q\n"
     ]
    },
    {
     "name": "stdout",
     "output_type": "stream",
     "text": [
      "Thank you for your time\n"
     ]
    }
   ],
   "source": [
    "# 4.\n",
    "list = []\n",
    "while True:\n",
    "    userinput = input(\"Input an integer or 'q' to quit:\")\n",
    "    try:\n",
    "        num = int(userinput)\n",
    "        list.append(num)\n",
    "        print(f\"Current sum: {sum(list[-5:])}\")\n",
    "    except:\n",
    "        if userinput.lower() == 'q':\n",
    "            print(\"Thank you for your time\")\n",
    "            break\n",
    "        else:\n",
    "            print(\"Please try again\")\n",
    "            continue"
   ]
  },
  {
   "cell_type": "code",
   "execution_count": 1,
   "id": "0989e53b-af7b-4ca1-bab4-6679330d320b",
   "metadata": {},
   "outputs": [
    {
     "name": "stdout",
     "output_type": "stream",
     "text": [
      "Bucco   Pembroke   48.648   4   \n",
      "Fruitcup   Cardigan   52.656   5   \n",
      "Golden Graham   Pembroke   54.202   4   \n",
      "Hywel the Woofer   Pembroke   54.837   6   \n",
      "Baroness von Fluffyshanks   Pembroke   55.150   4   \n",
      "Gareth Bale   Pembroke   55.252   4   \n",
      "Stampy McDog   Pembroke   55.938   6   \n",
      "Stonewall   Cardigan   55.950   4   \n",
      "Mary Queen of Corgs   Pembroke   56.875   4   \n",
      "Penny the Shedmonster   Pembroke   57.538   6   \n",
      "Holden Corgfield   Pembroke   58.125   6   \n",
      "Jedediah   Pembroke   59.052   4   \n",
      "Stanley   Pembroke   59.452   6   \n",
      "Snappy Ginger   Pembroke   59.454   7   \n",
      "Snarla June   Pembroke   59.847   7   \n",
      "Smiley Shortdog   Cardigan   60.242   6   \n",
      "Drederick   Pembroke   61.127   7   \n",
      "Prometheus   Pembroke   61.177   7   \n",
      "Kraken   Pembroke   61.260   7   \n",
      "Sweet Dee   Pembroke   62.198   4   \n",
      "Cowboy Dan   Pembroke   62.585   4   \n",
      "Oatmeal   Pembroke   62.795   4   \n",
      "Foxy Stumptail   Pembroke   63.314   7   \n",
      "Lady Wigglebottom   Pembroke   63.562   5   \n",
      "Miss Juniper   Pembroke   64.242   6   \n"
     ]
    }
   ],
   "source": [
    "# 5.\n",
    "import pymssql\n",
    "import decimal\n",
    "\n",
    "conn = pymssql.connect(\n",
    "     host='stairway.usu.edu', # Server name goes in quotes.\n",
    "     user='dunn2100', # Username goes in quotes.\n",
    "     password='databases4ever', # Password goes in quotes\n",
    "     database='2100corgirace') # Database to use goes in quotes\n",
    "\n",
    "cursor = conn.cursor()\n",
    "\n",
    "cursor.execute(\"\"\"\n",
    "    SELECT\n",
    "        Corgi.Corgname,\n",
    "        CASE \n",
    "            WHEN Corgi.Breed = 'Pem' THEN 'Pembroke'\n",
    "            WHEN Corgi.Breed = 'Cardi' THEN 'Cardigan'\n",
    "            ELSE Corgi.Breed\n",
    "        END,\n",
    "        Times.AverageTime,\n",
    "        Times.RaceCount\n",
    "    FROM Corgi\n",
    "    JOIN\n",
    "    (SELECT \n",
    "        CorgID,\n",
    "        COUNT(*) as RaceCount,\n",
    "        AVG(RaceTime) as AverageTime\n",
    "    FROM Outcome\n",
    "    GROUP BY \n",
    "        CorgID) AS Times ON Times.CorgID = Corgi.CorgID\n",
    "    ORDER BY Times.AverageTime\n",
    "\"\"\")\n",
    "\n",
    "for x in cursor:\n",
    "    for attr in x:\n",
    "        if type(attr) is decimal.Decimal:\n",
    "            attr = round(attr, 3)\n",
    "        print(str(attr) + \"   \", end=\"\")\n",
    "    print()\n"
   ]
  },
  {
   "cell_type": "code",
   "execution_count": 3,
   "id": "fc76c661-f277-4d2c-8e87-8876518b6094",
   "metadata": {},
   "outputs": [
    {
     "name": "stdout",
     "output_type": "stream",
     "text": [
      "i. Complete Records: 916\n",
      "ii. Average Age: 34\n",
      "iii. Been to College: 41.2%\n",
      "iv. Graduated High School: 87.9%\n",
      "v. Average Years of Experience: 6.3\n",
      "vi. Percentage of Experience:\n",
      "    High: 17.8%\n",
      "    Medium: 27.0%\n",
      "    Low: 55.2%\n",
      "vii. Performance Percentages:\n",
      "    Best: 3.9%\n",
      "    Good: 16.8%\n",
      "    Acceptable: 39.7%\n",
      "    Unacceptable: 39.4%\n",
      "viii. GoodEnuf: 60.6%\n"
     ]
    }
   ],
   "source": [
    "# 6.\n",
    "infile = open(\"lubbock2022.csv\")\n",
    "data = infile.readlines()\n",
    "completeRecords = 0\n",
    "ages = []\n",
    "beenToCollege = 0\n",
    "graduated = 0\n",
    "experience = []\n",
    "high = 0\n",
    "medium = 0\n",
    "low = 0\n",
    "best = 0\n",
    "good = 0\n",
    "acceptable = 0\n",
    "unacceptable = 0\n",
    "goodEnuf = 0\n",
    "for row in data[1:]:\n",
    "    attrList = row.split(',')\n",
    "    if '' not in attrList:\n",
    "        completeRecords += 1\n",
    "        # Ages\n",
    "        ages.append(int(attrList[1]))\n",
    "        # Been to college\n",
    "        if attrList[2] == 'Yes':\n",
    "            beenToCollege += 1\n",
    "        if attrList[3] == 'Yes':\n",
    "            graduated += 1\n",
    "        # Years of experience\n",
    "        experience.append(int(attrList[4]))\n",
    "        # Experience level\n",
    "        if attrList[5] == 'High':\n",
    "            high += 1\n",
    "        elif attrList[5] == 'Medium':\n",
    "            medium += 1\n",
    "        elif attrList[5] == 'Low':\n",
    "            low += 1\n",
    "        # Performance score\n",
    "        if attrList[6] == 'Best':\n",
    "            best += 1\n",
    "        elif attrList[6] == 'Good':\n",
    "            good += 1\n",
    "        elif attrList[6] == 'Acceptable':\n",
    "            acceptable += 1\n",
    "        elif attrList[6] == 'Unacceptable':\n",
    "            unacceptable += 1\n",
    "        # GoodEnuf\n",
    "        if int(attrList[7]) == 1:\n",
    "            goodEnuf += 1\n",
    "\n",
    "print(f\"i. Complete Records: {completeRecords}\")\n",
    "print(f\"ii. Average Age: {round(sum(ages) / completeRecords)}\")\n",
    "print(f\"iii. Been to College: {round((beenToCollege / completeRecords) * 100, 1)}%\")\n",
    "print(f\"iv. Graduated High School: {round((graduated / completeRecords) * 100, 1)}%\")\n",
    "print(f\"v. Average Years of Experience: {round(sum(experience) / completeRecords, 1)}\")\n",
    "print(f\"\"\"vi. Percentage of Experience:\n",
    "    High: {round(high / completeRecords * 100, 1)}%\n",
    "    Medium: {round(medium / completeRecords * 100, 1)}%\n",
    "    Low: {round(low / completeRecords * 100, 1)}%\"\"\")\n",
    "print(f\"\"\"vii. Performance Percentages:\n",
    "    Best: {round(best / completeRecords * 100, 1)}%\n",
    "    Good: {round(good / completeRecords * 100, 1)}%\n",
    "    Acceptable: {round(acceptable / completeRecords * 100, 1)}%\n",
    "    Unacceptable: {round(unacceptable / completeRecords * 100, 1)}%\"\"\")\n",
    "print(f\"viii. GoodEnuf: {round(goodEnuf / completeRecords * 100, 1)}%\")\n",
    "        \n"
   ]
  },
  {
   "cell_type": "code",
   "execution_count": null,
   "id": "dec39b9b-bcd1-41f9-b270-be7c05b9716e",
   "metadata": {},
   "outputs": [],
   "source": []
  }
 ],
 "metadata": {
  "kernelspec": {
   "display_name": "Python 3 (ipykernel)",
   "language": "python",
   "name": "python3"
  },
  "language_info": {
   "codemirror_mode": {
    "name": "ipython",
    "version": 3
   },
   "file_extension": ".py",
   "mimetype": "text/x-python",
   "name": "python",
   "nbconvert_exporter": "python",
   "pygments_lexer": "ipython3",
   "version": "3.10.14"
  }
 },
 "nbformat": 4,
 "nbformat_minor": 5
}
