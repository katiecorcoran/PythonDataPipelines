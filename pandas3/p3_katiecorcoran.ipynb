{
 "cells": [
  {
   "cell_type": "code",
   "execution_count": 110,
   "id": "58be8f13-75af-42d7-b40c-09bc9702d805",
   "metadata": {},
   "outputs": [],
   "source": [
    "# 1. Katie Corcoran"
   ]
  },
  {
   "cell_type": "code",
   "execution_count": 111,
   "id": "23d80274-a548-4140-b32b-4e8a8c9c7e81",
   "metadata": {},
   "outputs": [
    {
     "name": "stdout",
     "output_type": "stream",
     "text": [
      "          Region  Income        LName  Members  SPCount  U18Count  VisitCt\n",
      "HHID                                                                      \n",
      "1     Western PA  153000       Willis        2        0         1       12\n",
      "2     Western PA  129000      Simpson        3        0         2        6\n",
      "3          Other   68000  Sonic-Smith        1        0         0        6\n",
      "4     Central PA   98000      Elliott        1        0         0        3\n",
      "5     Central PA   52000        Owens        1        1         0        6\n",
      "...          ...     ...          ...      ...      ...       ...      ...\n",
      "7151  Central PA   36000     Mitchell        1        0         0        2\n",
      "7152  Western PA   85000     Mitchell        1        0         0        6\n",
      "7153     DC Area   72000        Green        1        0         0        5\n",
      "7154  Central PA   48000    Schroeder        1        0         0        3\n",
      "7155  Western PA  111000         Carr        1        0         1        3\n",
      "\n",
      "[7088 rows x 7 columns]\n"
     ]
    }
   ],
   "source": [
    "# 2.\n",
    "import warnings\n",
    "warnings.filterwarnings('ignore')\n",
    "\n",
    "import pymssql\n",
    "import pandas as pd\n",
    "\n",
    "conn = pymssql.connect(\n",
    "     host='HOST', # Server name goes in quotes.\n",
    "     user='USER', # Username goes in quotes.\n",
    "     password='PASSWORD', # Password goes in quotes\n",
    "     database='overland') # Database to use goes in quotes\n",
    "\n",
    "query = \"\"\"\n",
    "WITH HouseholdData AS\n",
    "(SELECT \n",
    "    HHID,\n",
    "    COUNT(CASE WHEN Guest.SeasonPass = 'y' THEN 1 END) AS SPCount,\n",
    "    COUNT(CASE WHEN Guest.Age < 18 THEN 1 END) AS U18Count,\n",
    "    COUNT(*) AS Members\n",
    "FROM Guest\n",
    "GROUP BY HHID),\n",
    "VisitData AS\n",
    "(SELECT \n",
    "    HHID,\n",
    "    COUNT(Visit.VisID) AS VisitCt\n",
    "FROM Guest\n",
    "JOIN Visit ON Visit.CustID = Guest.GuestID\n",
    "GROUP BY HHID)\n",
    "\n",
    "SELECT DISTINCT\n",
    "    Household.HHID,\n",
    "    Household.Region,\n",
    "    Household.HHI AS Income,\n",
    "    Guest.LName,\n",
    "    HouseholdData.Members,\n",
    "    HouseholdData.SPCount,\n",
    "    HouseholdData.U18Count,\n",
    "    VisitData.VisitCt\n",
    "FROM Household\n",
    "JOIN HouseholdData ON HouseholdData.HHID = Household.HHID\n",
    "JOIN Guest ON Guest.HHID = Household.HHID\n",
    "JOIN VisitData ON VisitData.HHID = Household.HHID\n",
    "ORDER BY HHID\n",
    "\"\"\"\n",
    "df = pd.read_sql(query, conn, index_col='HHID')\n",
    "print(df)"
   ]
  },
  {
   "cell_type": "code",
   "execution_count": 112,
   "id": "a1d9daa3-9c3f-43a3-b742-db88a05ec1cb",
   "metadata": {},
   "outputs": [
    {
     "name": "stdout",
     "output_type": "stream",
     "text": [
      "          Region  Income        LName  Members  SPCount  U18Count  VisitCt\n",
      "HHID                                                                      \n",
      "1     Western PA  153000       Willis        2        0         1       12\n",
      "2     Western PA  129000      Simpson        3        0         2        6\n",
      "3          Other   68000  Sonic-Smith        1        0         0        6\n",
      "4     Central PA   98000      Elliott        1        0         0        3\n",
      "5     Central PA   52000        Owens        1        1         0        6\n",
      "...          ...     ...          ...      ...      ...       ...      ...\n",
      "7151  Central PA   36000     Mitchell        1        0         0        2\n",
      "7152  Western PA   85000     Mitchell        1        0         0        6\n",
      "7153     DC Area   72000        Green        1        0         0        5\n",
      "7154  Central PA   48000    Schroeder        1        0         0        3\n",
      "7155  Western PA  111000         Carr        1        0         1        3\n",
      "\n",
      "[7088 rows x 7 columns]\n"
     ]
    }
   ],
   "source": [
    "# 3.\n",
    "import numpy as np\n",
    "\n",
    "df.replace({'SPCount': np.nan}, value=0, inplace=True)\n",
    "df.replace({'U18Count': np.nan}, value=0, inplace=True)\n",
    "df.replace({'VisitCt': np.nan}, value=0, inplace=True)\n",
    "print(df)"
   ]
  },
  {
   "cell_type": "code",
   "execution_count": 113,
   "id": "7b0f336f-4c6f-4c5f-9548-d3db21bf43b1",
   "metadata": {},
   "outputs": [
    {
     "name": "stdout",
     "output_type": "stream",
     "text": [
      "            LName  Members  VisitCt  VisPP\n",
      "HHID                                      \n",
      "1          Willis        2       12    6.0\n",
      "2         Simpson        3        6    2.0\n",
      "3     Sonic-Smith        1        6    6.0\n",
      "4         Elliott        1        3    3.0\n",
      "5           Owens        1        6    6.0\n",
      "...           ...      ...      ...    ...\n",
      "7151     Mitchell        1        2    2.0\n",
      "7152     Mitchell        1        6    6.0\n",
      "7153        Green        1        5    5.0\n",
      "7154    Schroeder        1        3    3.0\n",
      "7155         Carr        1        3    3.0\n",
      "\n",
      "[7088 rows x 4 columns]\n"
     ]
    }
   ],
   "source": [
    "# 4.\n",
    "df['VisPP'] = df['VisitCt'] / df['Members']\n",
    "print(df[['LName', 'Members', 'VisitCt', 'VisPP']])"
   ]
  },
  {
   "cell_type": "code",
   "execution_count": 114,
   "id": "9e07c79d-832b-452a-9d95-e7b7c5f21f49",
   "metadata": {},
   "outputs": [
    {
     "name": "stdout",
     "output_type": "stream",
     "text": [
      "            LName      Region  IsLocal\n",
      "HHID                                  \n",
      "1          Willis  Western PA        0\n",
      "2         Simpson  Western PA        0\n",
      "3     Sonic-Smith       Other        0\n",
      "4         Elliott  Central PA        1\n",
      "5           Owens  Central PA        1\n",
      "...           ...         ...      ...\n",
      "7151     Mitchell  Central PA        1\n",
      "7152     Mitchell  Western PA        0\n",
      "7153        Green     DC Area        0\n",
      "7154    Schroeder  Central PA        1\n",
      "7155         Carr  Western PA        0\n",
      "\n",
      "[7088 rows x 3 columns]\n"
     ]
    }
   ],
   "source": [
    "# 5.\n",
    "df['IsLocal'] = np.where((df['Region'] == 'Central PA'), 1, 0)\n",
    "print(df[['LName', 'Region', 'IsLocal']])"
   ]
  },
  {
   "cell_type": "code",
   "execution_count": 115,
   "id": "d1e5f680-5697-4fd7-ba7b-3b4f3e5607a3",
   "metadata": {},
   "outputs": [
    {
     "name": "stdout",
     "output_type": "stream",
     "text": [
      "          Region  Income      LName  Members  SPCount  U18Count  VisitCt  \\\n",
      "HHID                                                                       \n",
      "4     Central PA   98000    Elliott        1        0         0        3   \n",
      "5     Central PA   52000      Owens        1        1         0        6   \n",
      "6     Central PA  159000  Underwood        2        2         1       18   \n",
      "7     Central PA  138000       Wise        1        0         1        5   \n",
      "8     Central PA   78000      Tyler        6        0         4       22   \n",
      "...          ...     ...        ...      ...      ...       ...      ...   \n",
      "7143  Central PA   80000     Molina        1        0         0        9   \n",
      "7145  Central PA  134000      Scott        5        0         4       33   \n",
      "7149  Central PA  139000     Watson        2        0         0       71   \n",
      "7151  Central PA   36000   Mitchell        1        0         0        2   \n",
      "7154  Central PA   48000  Schroeder        1        0         0        3   \n",
      "\n",
      "          VisPP  IsLocal  \n",
      "HHID                      \n",
      "4      3.000000        1  \n",
      "5      6.000000        1  \n",
      "6      9.000000        1  \n",
      "7      5.000000        1  \n",
      "8      3.666667        1  \n",
      "...         ...      ...  \n",
      "7143   9.000000        1  \n",
      "7145   6.600000        1  \n",
      "7149  35.500000        1  \n",
      "7151   2.000000        1  \n",
      "7154   3.000000        1  \n",
      "\n",
      "[2859 rows x 9 columns]\n"
     ]
    }
   ],
   "source": [
    "# 6.\n",
    "dflocal = df[df['IsLocal'] == 1]\n",
    "print(dflocal)"
   ]
  },
  {
   "cell_type": "code",
   "execution_count": 116,
   "id": "51161f24-9332-4856-a3d5-ef3b15912183",
   "metadata": {},
   "outputs": [
    {
     "name": "stdout",
     "output_type": "stream",
     "text": [
      "      Income      LName  Members  SPCount  U18Count  VisitCt      VisPP\n",
      "HHID                                                                   \n",
      "4      98000    Elliott        1        0         0        3   3.000000\n",
      "5      52000      Owens        1        1         0        6   6.000000\n",
      "6     159000  Underwood        2        2         1       18   9.000000\n",
      "7     138000       Wise        1        0         1        5   5.000000\n",
      "8      78000      Tyler        6        0         4       22   3.666667\n",
      "...      ...        ...      ...      ...       ...      ...        ...\n",
      "7143   80000     Molina        1        0         0        9   9.000000\n",
      "7145  134000      Scott        5        0         4       33   6.600000\n",
      "7149  139000     Watson        2        0         0       71  35.500000\n",
      "7151   36000   Mitchell        1        0         0        2   2.000000\n",
      "7154   48000  Schroeder        1        0         0        3   3.000000\n",
      "\n",
      "[2859 rows x 7 columns]\n"
     ]
    }
   ],
   "source": [
    "# 7.\n",
    "dflocal.drop(columns=['IsLocal', 'Region'], inplace=True);\n",
    "print(dflocal)"
   ]
  },
  {
   "cell_type": "code",
   "execution_count": 117,
   "id": "50de099e-fb94-4d9a-a3b9-b0854babcd70",
   "metadata": {},
   "outputs": [
    {
     "name": "stdout",
     "output_type": "stream",
     "text": [
      "          LName  Income   IncomeCat      VisPP\n",
      "HHID                                          \n",
      "4       Elliott   98000    $50-100K   3.000000\n",
      "5         Owens   52000    $50-100K   6.000000\n",
      "6     Underwood  159000  Over $150K   9.000000\n",
      "7          Wise  138000   $100-150K   5.000000\n",
      "8         Tyler   78000    $50-100K   3.666667\n",
      "...         ...     ...         ...        ...\n",
      "7143     Molina   80000    $50-100K   9.000000\n",
      "7145      Scott  134000   $100-150K   6.600000\n",
      "7149     Watson  139000   $100-150K  35.500000\n",
      "7151   Mitchell   36000  Under $50K   2.000000\n",
      "7154  Schroeder   48000  Under $50K   3.000000\n",
      "\n",
      "[2859 rows x 4 columns]\n"
     ]
    }
   ],
   "source": [
    "# 8.\n",
    "dflocal.dropna()\n",
    "conditions = [\n",
    "    dflocal['Income'] < 50000,\n",
    "    dflocal['Income'] < 100000,\n",
    "    dflocal['Income'] < 150000,\n",
    "    dflocal['Income'] >= 150000\n",
    "]\n",
    "values = [\n",
    "    'Under $50K',\n",
    "    '$50-100K',\n",
    "    '$100-150K',\n",
    "    'Over $150K'\n",
    "]\n",
    "dflocal['IncomeCat'] = np.select(conditions, values)\n",
    "print(dflocal[['LName', 'Income', 'IncomeCat', 'VisPP']])"
   ]
  },
  {
   "cell_type": "code",
   "execution_count": 142,
   "id": "52cdf3af-a3b0-4b52-8070-4f402b81834e",
   "metadata": {},
   "outputs": [
    {
     "name": "stdout",
     "output_type": "stream",
     "text": [
      "             VisPP                                                         \\\n",
      "             count      mean       std       min       25%       50%  75%   \n",
      "IncomeCat                                                                   \n",
      "$100-150K   1117.0  6.057126  3.830559  0.666667  3.750000  5.333333  7.5   \n",
      "$50-100K    1239.0  4.849318  2.772813  0.500000  3.000000  4.000000  6.0   \n",
      "Over $150K   445.0  7.549813  4.357555  0.600000  4.666667  7.000000  9.0   \n",
      "Under $50K    58.0  3.958621  1.694473  1.000000  3.000000  4.000000  5.0   \n",
      "\n",
      "                  \n",
      "             max  \n",
      "IncomeCat         \n",
      "$100-150K   35.5  \n",
      "$50-100K    31.0  \n",
      "Over $150K  31.0  \n",
      "Under $50K   8.0  \n",
      "Yes, there is likely a relationship between income and number of visits per person. Households making over $150K visit the most, with $100-150K, $50-100K, and under $50K following behind from most to least, respectively.\n"
     ]
    }
   ],
   "source": [
    "# 9.\n",
    "print(dflocal[['IncomeCat', 'VisPP']].groupby('IncomeCat').describe())\n",
    "print('Yes, there is likely a relationship between income and number of visits per person. Households making over $150K visit the most, with $100-150K, $50-100K, and under $50K following behind from most to least, respectively.')\n",
    "\n"
   ]
  },
  {
   "cell_type": "code",
   "execution_count": 146,
   "id": "36070220-5082-4c1c-b4d1-b02f784f17b0",
   "metadata": {},
   "outputs": [
    {
     "name": "stdout",
     "output_type": "stream",
     "text": [
      "            Income   Members   SPCount  U18Count     VisPP\n",
      "Income    1.000000  0.350453  0.396241  0.290968  0.283979\n",
      "Members   0.350453  1.000000  0.194179  0.903288 -0.119488\n",
      "SPCount   0.396241  0.194179  1.000000  0.169623  0.231840\n",
      "U18Count  0.290968  0.903288  0.169623  1.000000 -0.119970\n",
      "VisPP     0.283979 -0.119488  0.231840 -0.119970  1.000000\n",
      "Income has the strongest relationship with visits per person for local guests because the correlation coefficient between VisPP and Income has the highest absolute value.\n",
      "The number of members in the household has the weakest relationship with visits per person, because the correlation coefficient between VisPP and Members has the lowest absolute value.\n"
     ]
    }
   ],
   "source": [
    "# 10.\n",
    "print(dflocal[['Income', 'Members', 'SPCount', 'U18Count', 'VisPP']].corr())\n",
    "print('Income has the strongest relationship with visits per person for local guests because the correlation coefficient between VisPP and Income has the highest absolute value.')\n",
    "print('The number of members in the household has the weakest relationship with visits per person, because the correlation coefficient between VisPP and Members has the lowest absolute value.')\n",
    "\n"
   ]
  },
  {
   "cell_type": "code",
   "execution_count": null,
   "id": "0897949a-e247-4283-9f5c-94653c743c64",
   "metadata": {},
   "outputs": [],
   "source": []
  }
 ],
 "metadata": {
  "kernelspec": {
   "display_name": "Python 3 (ipykernel)",
   "language": "python",
   "name": "python3"
  },
  "language_info": {
   "codemirror_mode": {
    "name": "ipython",
    "version": 3
   },
   "file_extension": ".py",
   "mimetype": "text/x-python",
   "name": "python",
   "nbconvert_exporter": "python",
   "pygments_lexer": "ipython3",
   "version": "3.10.14"
  }
 },
 "nbformat": 4,
 "nbformat_minor": 5
}
