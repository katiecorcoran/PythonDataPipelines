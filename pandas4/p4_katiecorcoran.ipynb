{
 "cells": [
  {
   "cell_type": "code",
   "execution_count": 190,
   "id": "4eb6f9f7-5627-429d-a4ce-f120242df695",
   "metadata": {},
   "outputs": [],
   "source": [
    "# 1. Katie Corcoran"
   ]
  },
  {
   "cell_type": "code",
   "execution_count": 191,
   "id": "7a959b85-28f4-4098-8ae3-a7c89778231d",
   "metadata": {},
   "outputs": [],
   "source": [
    "# 2.\n",
    "thiscsv = 'fdderby.csv'"
   ]
  },
  {
   "cell_type": "code",
   "execution_count": 192,
   "id": "c2f54e76-4762-4596-84c3-ef05955af278",
   "metadata": {},
   "outputs": [
    {
     "name": "stdout",
     "output_type": "stream",
     "text": [
      "               Name (Age)     Breed Gender  Weight     Time\n",
      "Place                                                      \n",
      "1      Foxy Stumptail (6)  Pembroke     NM    29.0  0:50.11\n",
      "2          Cowboy Dan (6)  Pembroke      M    27.0  0:50.13\n",
      "3        Miss Juniper (3)  Pembroke     SF    21.5  0:52.88\n",
      "4        Bork Widow (2.5)  Pembroke      F    23.0  0:55.29\n",
      "5            Fruitcup (3)  Cardigan      F    23.0  0:55.48\n",
      "6           Optimus (4.5)  Pembroke      M    26.0  0:59.72\n",
      "7         Snarla June (4)  Pembroke     SF    29.0  0:59.92\n",
      "8        Prometheus (5.5)  Pembroke      M    27.0  1:00.05\n",
      "9         Sweet Dee (5.5)  Pembroke     SF    21.0  1:08.84\n",
      "10      Winston Smith (5)  Cardigan      M    32.0  1:44.45\n",
      "11             Crow (2.5)  Pembroke      M    28.0      DNF\n"
     ]
    }
   ],
   "source": [
    "# 3.\n",
    "import pandas as pd\n",
    "df = pd.read_csv(thiscsv, skiprows=1, index_col='Place')\n",
    "print(df)"
   ]
  },
  {
   "cell_type": "code",
   "execution_count": 193,
   "id": "88cb9dba-f28b-409f-b26a-647911f97c3d",
   "metadata": {},
   "outputs": [
    {
     "name": "stdout",
     "output_type": "stream",
     "text": [
      "               Name (Age)     Breed Gender  Weight     Time\n",
      "Place                                                      \n",
      "1      Foxy Stumptail (6)  Pembroke     NM      29  0:50.11\n",
      "2          Cowboy Dan (6)  Pembroke      M      27  0:50.13\n",
      "3        Miss Juniper (3)  Pembroke     SF      22  0:52.88\n",
      "4        Bork Widow (2.5)  Pembroke      F      23  0:55.29\n",
      "5            Fruitcup (3)  Cardigan      F      23  0:55.48\n",
      "6           Optimus (4.5)  Pembroke      M      26  0:59.72\n",
      "7         Snarla June (4)  Pembroke     SF      29  0:59.92\n",
      "8        Prometheus (5.5)  Pembroke      M      27  1:00.05\n",
      "9         Sweet Dee (5.5)  Pembroke     SF      21  1:08.84\n",
      "10      Winston Smith (5)  Cardigan      M      32  1:44.45\n",
      "11             Crow (2.5)  Pembroke      M      28      DNF\n"
     ]
    }
   ],
   "source": [
    "# 4.\n",
    "df['Weight'] = round(df['Weight']).astype('int')\n",
    "print(df)"
   ]
  },
  {
   "cell_type": "code",
   "execution_count": 194,
   "id": "6b0f7a24-d508-4dbc-859b-5eaca4165764",
   "metadata": {},
   "outputs": [
    {
     "name": "stdout",
     "output_type": "stream",
     "text": [
      "               Name (Age)  Breed Gender  Weight     Time\n",
      "Place                                                   \n",
      "1      Foxy Stumptail (6)    Pem     NM      29  0:50.11\n",
      "2          Cowboy Dan (6)    Pem      M      27  0:50.13\n",
      "3        Miss Juniper (3)    Pem     SF      22  0:52.88\n",
      "4        Bork Widow (2.5)    Pem      F      23  0:55.29\n",
      "5            Fruitcup (3)  Cardi      F      23  0:55.48\n",
      "6           Optimus (4.5)    Pem      M      26  0:59.72\n",
      "7         Snarla June (4)    Pem     SF      29  0:59.92\n",
      "8        Prometheus (5.5)    Pem      M      27  1:00.05\n",
      "9         Sweet Dee (5.5)    Pem     SF      21  1:08.84\n",
      "10      Winston Smith (5)  Cardi      M      32  1:44.45\n",
      "11             Crow (2.5)    Pem      M      28      DNF\n"
     ]
    }
   ],
   "source": [
    "# 5.\n",
    "df['Breed'] = df['Breed'].replace(to_replace=['Pembroke', 'Cardigan'], value=['Pem', 'Cardi'])\n",
    "print(df)"
   ]
  },
  {
   "cell_type": "code",
   "execution_count": 195,
   "id": "ea30edc8-971b-4833-886b-6ea532beae91",
   "metadata": {},
   "outputs": [
    {
     "name": "stdout",
     "output_type": "stream",
     "text": [
      "       Breed Gender  Weight     Time             Name  Age\n",
      "Place                                                     \n",
      "1        Pem     NM      29  0:50.11  Foxy Stumptail   6.0\n",
      "2        Pem      M      27  0:50.13      Cowboy Dan   6.0\n",
      "3        Pem     SF      22  0:52.88    Miss Juniper   3.0\n",
      "4        Pem      F      23  0:55.29      Bork Widow   2.5\n",
      "5      Cardi      F      23  0:55.48        Fruitcup   3.0\n",
      "6        Pem      M      26  0:59.72         Optimus   4.5\n",
      "7        Pem     SF      29  0:59.92     Snarla June   4.0\n",
      "8        Pem      M      27  1:00.05      Prometheus   5.5\n",
      "9        Pem     SF      21  1:08.84       Sweet Dee   5.5\n",
      "10     Cardi      M      32  1:44.45   Winston Smith   5.0\n",
      "11       Pem      M      28      DNF            Crow   2.5\n"
     ]
    }
   ],
   "source": [
    "# 6.\n",
    "df[['Name', 'Age']] = df['Name (Age)'].str.split(pat='(', expand=True)\n",
    "df['Age'] = df['Age'].str.replace(')', '')\n",
    "df['Age'] = pd.to_numeric(df['Age'])\n",
    "df.drop(columns=['Name (Age)'], inplace=True)\n",
    "print(df)"
   ]
  },
  {
   "cell_type": "code",
   "execution_count": 196,
   "id": "c0ba7644-0cb7-4c03-91c2-fa6bf329cd16",
   "metadata": {},
   "outputs": [
    {
     "name": "stdout",
     "output_type": "stream",
     "text": [
      "       Breed Gender  Weight    Time             Name  Age  Min    Sec\n",
      "Place                                                                \n",
      "1        Pem     NM      29   50.11  Foxy Stumptail   6.0    0  50.11\n",
      "2        Pem      M      27   50.13      Cowboy Dan   6.0    0  50.13\n",
      "3        Pem     SF      22   52.88    Miss Juniper   3.0    0  52.88\n",
      "4        Pem      F      23   55.29      Bork Widow   2.5    0  55.29\n",
      "5      Cardi      F      23   55.48        Fruitcup   3.0    0  55.48\n",
      "6        Pem      M      26   59.72         Optimus   4.5    0  59.72\n",
      "7        Pem     SF      29   59.92     Snarla June   4.0    0  59.92\n",
      "8        Pem      M      27   60.05      Prometheus   5.5    1   0.05\n",
      "9        Pem     SF      21   68.84       Sweet Dee   5.5    1   8.84\n",
      "10     Cardi      M      32  104.45   Winston Smith   5.0    1  44.45\n",
      "11       Pem      M      28   -1.00            Crow   2.5   -1   0.00\n"
     ]
    }
   ],
   "source": [
    "# 7.\n",
    "import numpy as np\n",
    "df.replace({'Time':'DNF'}, value='-1:00.00', inplace=True)\n",
    "df[['Min', 'Sec']] = df['Time'].str.split(pat=':', expand=True)\n",
    "df['Min'] = pd.to_numeric(df['Min'])\n",
    "df['Sec'] = pd.to_numeric(df['Sec'])\n",
    "df['Time'] = df['Min'] * 60 + df['Sec']\n",
    "df['Time'] = np.where(df['Time'] < 0, -1, df['Time'])\n",
    "print(df)"
   ]
  },
  {
   "cell_type": "code",
   "execution_count": 197,
   "id": "2404ace9-26c2-4500-9e88-8eafebec6aa9",
   "metadata": {},
   "outputs": [
    {
     "name": "stdout",
     "output_type": "stream",
     "text": [
      "                  Name  Breed Gender  Age  Weight    Time\n",
      "Place                                                    \n",
      "1      Foxy Stumptail     Pem     NM  6.0      29   50.11\n",
      "2          Cowboy Dan     Pem      M  6.0      27   50.13\n",
      "3        Miss Juniper     Pem     SF  3.0      22   52.88\n",
      "4          Bork Widow     Pem      F  2.5      23   55.29\n",
      "5            Fruitcup   Cardi      F  3.0      23   55.48\n",
      "6             Optimus     Pem      M  4.5      26   59.72\n",
      "7         Snarla June     Pem     SF  4.0      29   59.92\n",
      "8          Prometheus     Pem      M  5.5      27   60.05\n",
      "9           Sweet Dee     Pem     SF  5.5      21   68.84\n",
      "10      Winston Smith   Cardi      M  5.0      32  104.45\n",
      "11               Crow     Pem      M  2.5      28   -1.00\n"
     ]
    }
   ],
   "source": [
    "# 8.\n",
    "df = df[['Name', 'Breed', 'Gender', 'Age', 'Weight', 'Time']]\n",
    "print(df)"
   ]
  },
  {
   "cell_type": "code",
   "execution_count": 198,
   "id": "80c1d50c-9166-48ba-b219-14ceba574fad",
   "metadata": {},
   "outputs": [
    {
     "name": "stdout",
     "output_type": "stream",
     "text": [
      "    Place             Name  Breed Gender  Age  Weight    Time\n",
      "0       1  Foxy Stumptail     Pem     NM  6.0      29   50.11\n",
      "1       2      Cowboy Dan     Pem      M  6.0      27   50.13\n",
      "2       3    Miss Juniper     Pem     SF  3.0      22   52.88\n",
      "3       4      Bork Widow     Pem      F  2.5      23   55.29\n",
      "4       5        Fruitcup   Cardi      F  3.0      23   55.48\n",
      "5       6         Optimus     Pem      M  4.5      26   59.72\n",
      "6       7     Snarla June     Pem     SF  4.0      29   59.92\n",
      "7       8      Prometheus     Pem      M  5.5      27   60.05\n",
      "8       9       Sweet Dee     Pem     SF  5.5      21   68.84\n",
      "9      10   Winston Smith   Cardi      M  5.0      32  104.45\n",
      "10     11            Crow     Pem      M  2.5      28   -1.00\n"
     ]
    }
   ],
   "source": [
    "# 9.\n",
    "import datetime\n",
    "\n",
    "infile = open(thiscsv)\n",
    "data = infile.readlines()\n",
    "x = data[0].split(',')\n",
    "[month, day] = x[2].strip().split(' ')\n",
    "year = datetime.date.today().year\n",
    "racedate = datetime.datetime.strptime(f\"{year}, {month}, {day[:-2]}\", \"%Y, %B, %d\")\n",
    "name = f\"race-{racedate.strftime('%Y%m%d')}.csv\"\n",
    "df.to_csv(name)\n",
    "dftest = pd.read_csv(name)\n",
    "print(dftest)"
   ]
  },
  {
   "cell_type": "code",
   "execution_count": 209,
   "id": "80f87e9d-12c1-4db2-a42b-84810b6dd77a",
   "metadata": {},
   "outputs": [
    {
     "name": "stdout",
     "output_type": "stream",
     "text": [
      "1. Create a new dataframe for the Outcome table (dfoutcome)\n",
      "2. Add the Time column as RaceTime and the Place ID as CorgID to dfoutcome\n",
      "3. Drop RaceTime from df and rename Place to CorgID\n"
     ]
    }
   ],
   "source": [
    "print('1. Create a new dataframe for the Outcome table (dfoutcome)')\n",
    "print('2. Add the Time column as RaceTime and the Place ID as CorgID to dfoutcome')\n",
    "print('3. Drop RaceTime from df and rename Place to CorgID')"
   ]
  },
  {
   "cell_type": "code",
   "execution_count": null,
   "id": "79777f7e-31fd-4918-8696-97118456affb",
   "metadata": {},
   "outputs": [],
   "source": []
  }
 ],
 "metadata": {
  "kernelspec": {
   "display_name": "Python 3 (ipykernel)",
   "language": "python",
   "name": "python3"
  },
  "language_info": {
   "codemirror_mode": {
    "name": "ipython",
    "version": 3
   },
   "file_extension": ".py",
   "mimetype": "text/x-python",
   "name": "python",
   "nbconvert_exporter": "python",
   "pygments_lexer": "ipython3",
   "version": "3.10.14"
  }
 },
 "nbformat": 4,
 "nbformat_minor": 5
}
