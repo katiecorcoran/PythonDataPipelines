{
 "cells": [
  {
   "cell_type": "code",
   "execution_count": 1,
   "id": "78e90f4d-ff29-4d03-9279-68a28ae1a3dd",
   "metadata": {},
   "outputs": [],
   "source": [
    "# 1. Katie Corcoran"
   ]
  },
  {
   "cell_type": "code",
   "execution_count": 4,
   "id": "2f3f452a-7ac0-4659-8e6b-dcf6a7522737",
   "metadata": {},
   "outputs": [
    {
     "name": "stdout",
     "output_type": "stream",
     "text": [
      "        Sightings  Wails  Jump-Scares  AvgTemp  Ectograph Security\n",
      "Date                                                              \n",
      "15-Oct        1.0      4            9     43.0       2.51        O\n",
      "16-Oct        6.0     10           14     38.0       3.54        O\n",
      "17-Oct        3.0      3            9     48.0       2.61        H\n",
      "18-Oct        NaN      6           12     40.0       3.42        H\n",
      "19-Oct        2.0     13           14     46.0       3.99        H\n",
      "20-Oct        8.0     11           18     38.0       4.15        O\n",
      "21-Oct        9.0      4           15     36.0       3.60        O\n",
      "22-Oct        6.0     15           15     28.0       4.29        O\n",
      "23-Oct        8.0     17           15     57.0       4.26        O\n",
      "24-Oct        9.0      7           17     36.0       3.68        H\n",
      "25-Oct        NaN     12           13     71.0       2.48        H\n",
      "26-Oct        2.0      8            9     37.0       2.23        H\n",
      "27-Oct        5.0     18           13      NaN       4.11        O\n",
      "28-Oct        2.0     20            8     29.0       3.80        O\n",
      "29-Oct        6.0     12            9     23.0       3.15        S\n",
      "30-Oct        9.0     14           43     47.0       5.10        O\n",
      "31-Oct        6.0     13           54     37.0       3.46        H\n",
      "1-Nov         NaN     16           55     26.0       2.66        H\n",
      "2-Nov         3.0     19           28      NaN       3.31        S\n",
      "3-Nov         3.0      7           10     50.0       2.90        H\n",
      "4-Nov         NaN     15            6     40.0       2.36        O\n"
     ]
    }
   ],
   "source": [
    "# 2.\n",
    "import pandas as pd\n",
    "df = pd.read_csv('ecto-oldmain.csv', index_col=\"Date\")\n",
    "print(df)"
   ]
  },
  {
   "cell_type": "code",
   "execution_count": 6,
   "id": "07ef9258-797e-4e82-bf05-cadc0422eb26",
   "metadata": {},
   "outputs": [
    {
     "name": "stdout",
     "output_type": "stream",
     "text": [
      "       Security  Jump-Scares  Wails\n",
      "Date                               \n",
      "15-Oct        O            9      4\n",
      "16-Oct        O           14     10\n",
      "17-Oct        H            9      3\n",
      "18-Oct        H           12      6\n",
      "19-Oct        H           14     13\n",
      "20-Oct        O           18     11\n",
      "21-Oct        O           15      4\n",
      "22-Oct        O           15     15\n",
      "23-Oct        O           15     17\n",
      "24-Oct        H           17      7\n",
      "25-Oct        H           13     12\n",
      "26-Oct        H            9      8\n",
      "27-Oct        O           13     18\n",
      "28-Oct        O            8     20\n",
      "29-Oct        S            9     12\n",
      "30-Oct        O           43     14\n",
      "31-Oct        H           54     13\n",
      "1-Nov         H           55     16\n",
      "2-Nov         S           28     19\n",
      "3-Nov         H           10      7\n",
      "4-Nov         O            6     15\n"
     ]
    }
   ],
   "source": [
    "# 3.\n",
    "dfnew = df[[\"Security\", \"Jump-Scares\", \"Wails\"]]\n",
    "print(dfnew)"
   ]
  },
  {
   "cell_type": "code",
   "execution_count": 8,
   "id": "88e4245d-d0b6-483c-89f8-839af91ff1d0",
   "metadata": {},
   "outputs": [
    {
     "name": "stdout",
     "output_type": "stream",
     "text": [
      "        Jump-Scares  AvgTemp\n",
      "Date                        \n",
      "15-Oct            9     43.0\n",
      "16-Oct           14     38.0\n",
      "17-Oct            9     48.0\n",
      "18-Oct           12     40.0\n",
      "19-Oct           14     46.0\n",
      "20-Oct           18     38.0\n",
      "21-Oct           15     36.0\n",
      "22-Oct           15     28.0\n",
      "23-Oct           15     57.0\n",
      "24-Oct           17     36.0\n",
      "25-Oct           13     71.0\n",
      "26-Oct            9     37.0\n",
      "27-Oct           13      NaN\n",
      "28-Oct            8     29.0\n",
      "29-Oct            9     23.0\n",
      "30-Oct           43     47.0\n",
      "31-Oct           54     37.0\n",
      "1-Nov            55     26.0\n",
      "2-Nov            28      NaN\n",
      "3-Nov            10     50.0\n",
      "4-Nov             6     40.0\n"
     ]
    }
   ],
   "source": [
    "# 4.\n",
    "print(df[[\"Jump-Scares\", \"AvgTemp\"]])"
   ]
  },
  {
   "cell_type": "code",
   "execution_count": 10,
   "id": "079bb483-a33c-4066-b411-3e389a18adbc",
   "metadata": {},
   "outputs": [
    {
     "name": "stdout",
     "output_type": "stream",
     "text": [
      "Sightings       3.0\n",
      "Wails             3\n",
      "Jump-Scares       9\n",
      "AvgTemp        48.0\n",
      "Ectograph      2.61\n",
      "Security          H\n",
      "Name: 17-Oct, dtype: object\n"
     ]
    }
   ],
   "source": [
    "# 5.\n",
    "print(df.loc[\"17-Oct\"])"
   ]
  },
  {
   "cell_type": "code",
   "execution_count": 12,
   "id": "13bf288f-e647-4ff0-a5be-67877b1c17ef",
   "metadata": {},
   "outputs": [
    {
     "name": "stdout",
     "output_type": "stream",
     "text": [
      "        Sightings  Shrieks  Jump-Scares  AvgTemp  Ectograph Guard\n",
      "Date                                                             \n",
      "15-Oct        1.0        4            9     43.0       2.51     O\n",
      "16-Oct        6.0       10           14     38.0       3.54     O\n",
      "17-Oct        3.0        3            9     48.0       2.61     H\n",
      "18-Oct        NaN        6           12     40.0       3.42     H\n",
      "19-Oct        2.0       13           14     46.0       3.99     H\n",
      "20-Oct        8.0       11           18     38.0       4.15     O\n",
      "21-Oct        9.0        4           15     36.0       3.60     O\n",
      "22-Oct        6.0       15           15     28.0       4.29     O\n",
      "23-Oct        8.0       17           15     57.0       4.26     O\n",
      "24-Oct        9.0        7           17     36.0       3.68     H\n",
      "25-Oct        NaN       12           13     71.0       2.48     H\n",
      "26-Oct        2.0        8            9     37.0       2.23     H\n",
      "27-Oct        5.0       18           13      NaN       4.11     O\n",
      "28-Oct        2.0       20            8     29.0       3.80     O\n",
      "29-Oct        6.0       12            9     23.0       3.15     S\n",
      "30-Oct        9.0       14           43     47.0       5.10     O\n",
      "31-Oct        6.0       13           54     37.0       3.46     H\n",
      "1-Nov         NaN       16           55     26.0       2.66     H\n",
      "2-Nov         3.0       19           28      NaN       3.31     S\n",
      "3-Nov         3.0        7           10     50.0       2.90     H\n",
      "4-Nov         NaN       15            6     40.0       2.36     O\n"
     ]
    }
   ],
   "source": [
    "# 6.\n",
    "df.rename(columns={\"Wails\":\"Shrieks\", \"Security\":\"Guard\"}, inplace=True)\n",
    "print(df)"
   ]
  },
  {
   "cell_type": "code",
   "execution_count": 14,
   "id": "b43dff6e-bb9b-4297-997c-21382aaea4b2",
   "metadata": {},
   "outputs": [
    {
     "name": "stdout",
     "output_type": "stream",
     "text": [
      "        Sightings  Shrieks  Jump-Scares  AvgTemp  Ectograph      Guard\n",
      "Date                                                                  \n",
      "15-Oct        1.0        4            9     43.0       2.51       Owen\n",
      "16-Oct        6.0       10           14     38.0       3.54       Owen\n",
      "17-Oct        3.0        3            9     48.0       2.61  Hildegard\n",
      "18-Oct        NaN        6           12     40.0       3.42  Hildegard\n",
      "19-Oct        2.0       13           14     46.0       3.99  Hildegard\n",
      "20-Oct        8.0       11           18     38.0       4.15       Owen\n",
      "21-Oct        9.0        4           15     36.0       3.60       Owen\n",
      "22-Oct        6.0       15           15     28.0       4.29       Owen\n",
      "23-Oct        8.0       17           15     57.0       4.26       Owen\n",
      "24-Oct        9.0        7           17     36.0       3.68  Hildegard\n",
      "25-Oct        NaN       12           13     71.0       2.48  Hildegard\n",
      "26-Oct        2.0        8            9     37.0       2.23  Hildegard\n",
      "27-Oct        5.0       18           13      NaN       4.11       Owen\n",
      "28-Oct        2.0       20            8     29.0       3.80       Owen\n",
      "29-Oct        6.0       12            9     23.0       3.15     Sierra\n",
      "30-Oct        9.0       14           43     47.0       5.10       Owen\n",
      "31-Oct        6.0       13           54     37.0       3.46  Hildegard\n",
      "1-Nov         NaN       16           55     26.0       2.66  Hildegard\n",
      "2-Nov         3.0       19           28      NaN       3.31     Sierra\n",
      "3-Nov         3.0        7           10     50.0       2.90  Hildegard\n",
      "4-Nov         NaN       15            6     40.0       2.36       Owen\n"
     ]
    }
   ],
   "source": [
    "# 7.\n",
    "df[\"Guard\"] = df[\"Guard\"].replace(to_replace=[\"H\", \"O\", \"S\"], value=[\"Hildegard\", \"Owen\", \"Sierra\"])\n",
    "print(df)          "
   ]
  },
  {
   "cell_type": "code",
   "execution_count": 16,
   "id": "bc8d9ba5-6480-4cbb-a7c0-a3f4efd37af5",
   "metadata": {},
   "outputs": [
    {
     "name": "stdout",
     "output_type": "stream",
     "text": [
      "        Sightings  Shrieks  Jump-Scares  AvgTemp  Ectograph      Guard\n",
      "Date                                                                  \n",
      "15-Oct        1.0        4            9     43.0       2.51       Owen\n",
      "16-Oct        6.0       10           14     38.0       3.54       Owen\n",
      "17-Oct        3.0        3            9     48.0       2.61  Hildegard\n",
      "18-Oct        NaN        6           12     40.0       3.42  Hildegard\n",
      "19-Oct        2.0       13           14     46.0       3.99  Hildegard\n",
      "20-Oct        8.0       11           18     38.0       4.15       Owen\n",
      "21-Oct        9.0        4           15     36.0       3.60       Owen\n",
      "22-Oct        6.0       15           15     28.0       4.29       Owen\n",
      "23-Oct        8.0       17           15     57.0       4.26       Owen\n",
      "24-Oct        9.0        7           17     36.0       3.68  Hildegard\n",
      "25-Oct        NaN       12           13     71.0       2.48  Hildegard\n",
      "26-Oct        2.0        8            9     37.0       2.23  Hildegard\n",
      "27-Oct        5.0       18           13     32.0       4.11       Owen\n",
      "28-Oct        2.0       20            8     29.0       3.80       Owen\n",
      "29-Oct        6.0       12            9     23.0       3.15     Sierra\n",
      "30-Oct        9.0       14           43     47.0       5.10       Owen\n",
      "31-Oct        6.0       13           54     37.0       3.46  Hildegard\n",
      "1-Nov         NaN       16           55     26.0       2.66  Hildegard\n",
      "2-Nov         3.0       19           28     32.0       3.31     Sierra\n",
      "3-Nov         3.0        7           10     50.0       2.90  Hildegard\n",
      "4-Nov         NaN       15            6     40.0       2.36       Owen\n"
     ]
    }
   ],
   "source": [
    "# 8.\n",
    "import numpy as np\n",
    "df.replace({\"AvgTemp\":np.nan}, value=32, inplace=True)\n",
    "print(df)"
   ]
  },
  {
   "cell_type": "code",
   "execution_count": 18,
   "id": "019223f9-8be4-4a10-870d-7b725fd3b766",
   "metadata": {},
   "outputs": [
    {
     "name": "stdout",
     "output_type": "stream",
     "text": [
      "        Precip\n",
      "Date          \n",
      "15-Oct     NaN\n",
      "16-Oct     1.0\n",
      "17-Oct    10.0\n",
      "18-Oct     2.0\n",
      "19-Oct     NaN\n",
      "20-Oct     NaN\n",
      "21-Oct     3.0\n",
      "22-Oct     NaN\n",
      "23-Oct     NaN\n",
      "24-Oct     5.0\n",
      "25-Oct     8.0\n",
      "26-Oct    12.0\n",
      "27-Oct     NaN\n",
      "28-Oct     NaN\n",
      "29-Oct     1.0\n",
      "30-Oct     NaN\n",
      "31-Oct     2.0\n",
      "1-Nov      1.0\n",
      "2-Nov      NaN\n",
      "3-Nov      NaN\n",
      "4-Nov      3.0\n",
      "        Sightings  Shrieks  Jump-Scares  AvgTemp  Ectograph      Guard  Precip\n",
      "Date                                                                          \n",
      "15-Oct        1.0        4            9     43.0       2.51       Owen     0.0\n",
      "16-Oct        6.0       10           14     38.0       3.54       Owen     1.0\n",
      "17-Oct        3.0        3            9     48.0       2.61  Hildegard    10.0\n",
      "18-Oct        NaN        6           12     40.0       3.42  Hildegard     2.0\n",
      "19-Oct        2.0       13           14     46.0       3.99  Hildegard     0.0\n",
      "20-Oct        8.0       11           18     38.0       4.15       Owen     0.0\n",
      "21-Oct        9.0        4           15     36.0       3.60       Owen     3.0\n",
      "22-Oct        6.0       15           15     28.0       4.29       Owen     0.0\n",
      "23-Oct        8.0       17           15     57.0       4.26       Owen     0.0\n",
      "24-Oct        9.0        7           17     36.0       3.68  Hildegard     5.0\n",
      "25-Oct        NaN       12           13     71.0       2.48  Hildegard     8.0\n",
      "26-Oct        2.0        8            9     37.0       2.23  Hildegard    12.0\n",
      "27-Oct        5.0       18           13     32.0       4.11       Owen     0.0\n",
      "28-Oct        2.0       20            8     29.0       3.80       Owen     0.0\n",
      "29-Oct        6.0       12            9     23.0       3.15     Sierra     1.0\n",
      "30-Oct        9.0       14           43     47.0       5.10       Owen     0.0\n",
      "31-Oct        6.0       13           54     37.0       3.46  Hildegard     2.0\n",
      "1-Nov         NaN       16           55     26.0       2.66  Hildegard     1.0\n",
      "2-Nov         3.0       19           28     32.0       3.31     Sierra     0.0\n",
      "3-Nov         3.0        7           10     50.0       2.90  Hildegard     0.0\n",
      "4-Nov         NaN       15            6     40.0       2.36       Owen     3.0\n"
     ]
    }
   ],
   "source": [
    "# 9.\n",
    "df2 = pd.read_csv(\"ecto-rainfall.csv\", index_col=\"Date\")\n",
    "print(df2)\n",
    "df2.replace({\"Precip\":np.nan}, value=0, inplace=True)\n",
    "dffull = pd.concat([df, df2], axis=1)\n",
    "print(dffull)"
   ]
  },
  {
   "cell_type": "code",
   "execution_count": 61,
   "id": "595bd1da-d350-4064-84ee-e9e720a900ba",
   "metadata": {},
   "outputs": [
    {
     "name": "stdout",
     "output_type": "stream",
     "text": [
      "The average Ectograph value is 3.410.\n"
     ]
    }
   ],
   "source": [
    "# 10.\n",
    "print(f\"The average Ectograph value is {df['Ectograph'].agg('mean'):.3f}.\")"
   ]
  },
  {
   "cell_type": "code",
   "execution_count": 20,
   "id": "b31e8b6f-17cb-4c11-b6b4-796c8492b10e",
   "metadata": {},
   "outputs": [
    {
     "name": "stdout",
     "output_type": "stream",
     "text": [
      "          Shrieks                                                     \n",
      "            count       mean       std   min    25%   50%    75%   max\n",
      "Guard                                                                 \n",
      "Hildegard     9.0   9.444444  4.216370   3.0   7.00   8.0  13.00  16.0\n",
      "Owen         10.0  12.800000  5.513620   4.0  10.25  14.5  16.50  20.0\n",
      "Sierra        2.0  15.500000  4.949747  12.0  13.75  15.5  17.25  19.0\n",
      "Hildegard is associated with the fewest shrieks.\n"
     ]
    }
   ],
   "source": [
    "# 11.\n",
    "dfx = df[[\"Shrieks\", \"Guard\"]]\n",
    "print(dfx.groupby(\"Guard\").describe())\n",
    "print(\"Hildegard is associated with the fewest shrieks.\")"
   ]
  }
 ],
 "metadata": {
  "kernelspec": {
   "display_name": "Python 3 (ipykernel)",
   "language": "python",
   "name": "python3"
  },
  "language_info": {
   "codemirror_mode": {
    "name": "ipython",
    "version": 3
   },
   "file_extension": ".py",
   "mimetype": "text/x-python",
   "name": "python",
   "nbconvert_exporter": "python",
   "pygments_lexer": "ipython3",
   "version": "3.10.14"
  }
 },
 "nbformat": 4,
 "nbformat_minor": 5
}
